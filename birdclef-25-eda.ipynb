{
 "cells": [
  {
   "cell_type": "markdown",
   "metadata": {},
   "source": [
    "# BirdCLEF 2025 Exploratory Data Analysis\n",
    "\n",
    "Notebook phục vụ cho việc phân tích và hiểu dữ liệu:\n",
    "1. Thời lượng trung bình của các bản ghi\n",
    "2. Phân bố số lượng bản ghi của mỗi loài\n",
    "3. Khảo sát chất lượng bản ghi\n",
    "5. Một số biểu diễn âm thanh của các bản ghi"
   ]
  },
  {
   "cell_type": "markdown",
   "metadata": {},
   "source": [
    "## Setup and Configuration\n",
    "\n",
    "Import các thư viện cần thiết:\n",
    "- `librosa` cho xử lý âm thanh\n",
    "- `pandas` cho xử lý dữ liệu bảng\n",
    "- `matplotlib`, `seaborn`, và `plotly` cho trực quan hóa\n",
    "- `scipy` xử lý tín hiệu"
   ]
  },
  {
   "cell_type": "code",
   "execution_count": null,
   "metadata": {
    "execution": {
     "iopub.execute_input": "2025-05-08T14:04:33.600773Z",
     "iopub.status.busy": "2025-05-08T14:04:33.600366Z",
     "iopub.status.idle": "2025-05-08T14:04:33.608311Z",
     "shell.execute_reply": "2025-05-08T14:04:33.607387Z",
     "shell.execute_reply.started": "2025-05-08T14:04:33.600748Z"
    },
    "trusted": true
   },
   "outputs": [],
   "source": [
    "import pandas as pd\n",
    "import numpy as np\n",
    "import os\n",
    "import librosa\n",
    "import matplotlib.pyplot as plt\n",
    "import seaborn as sns\n",
    "from tqdm.notebook import tqdm\n",
    "import warnings\n",
    "from pathlib import Path\n",
    "import plotly.express as px\n",
    "import plotly.graph_objects as go\n",
    "from collections import Counter, defaultdict\n",
    "from scipy import stats\n",
    "from scipy.signal import periodogram\n",
    "\n",
    "warnings.filterwarnings('ignore')\n",
    "\n",
    "# Cài đặt hiển thị\n",
    "pd.set_option('display.max_columns', None)\n",
    "sns.set(style=\"whitegrid\")\n",
    "%matplotlib inline"
   ]
  },
  {
   "cell_type": "markdown",
   "metadata": {},
   "source": [
    "## Configuration Class\n",
    "\n",
    "Cài đặt một số config cố định"
   ]
  },
  {
   "cell_type": "code",
   "execution_count": null,
   "metadata": {
    "execution": {
     "iopub.execute_input": "2025-05-08T14:04:33.610047Z",
     "iopub.status.busy": "2025-05-08T14:04:33.609751Z",
     "iopub.status.idle": "2025-05-08T14:04:33.633459Z",
     "shell.execute_reply": "2025-05-08T14:04:33.632708Z",
     "shell.execute_reply.started": "2025-05-08T14:04:33.610024Z"
    },
    "trusted": true
   },
   "outputs": [
    {
     "name": "stdout",
     "output_type": "stream",
     "text": [
      "Base directory: /kaggle/input/birdclef-2025/\n",
      "Train audio directory: /kaggle/input/birdclef-2025/train_audio\n",
      "Output directory: /kaggle/working/\n"
     ]
    }
   ],
   "source": [
    "class Config:\n",
    "    # Test\n",
    "    DEBUG_MODE = False \n",
    "    VISUALIZE = True   # Có muốn hiển thị visual\n",
    "    SAMPLE_SIZE = 100  # Số lượng file muốn test\n",
    "    \n",
    "    # Paths\n",
    "    BASE_DIR = '/kaggle/input/birdclef-2025/'  \n",
    "    TRAIN_AUDIO_DIR = os.path.join(BASE_DIR, 'train_audio')\n",
    "    TRAIN_SOUNDSCAPES_DIR = os.path.join(BASE_DIR, 'train_soundscapes')\n",
    "    TEST_SOUNDSCAPES_DIR = os.path.join(BASE_DIR, 'test_soundscapes')\n",
    "    OUTPUT_DIR = \"/kaggle/working/\"\n",
    "    \n",
    "    # Audio parameters\n",
    "    SR = 32000  # Số lượng stamp trong 1s âm thanh\n",
    "    \n",
    "    def __init__(self):\n",
    "        if not os.path.exists(self.BASE_DIR):\n",
    "            print(\"Adjusting paths for local environment...\")\n",
    "            self.BASE_DIR = \"./data\"\n",
    "            self.TRAIN_AUDIO_DIR = \"./data/train_audio\"\n",
    "            self.TRAIN_SOUNDSCAPES_DIR = \"./data/train_soundscapes\"\n",
    "            self.TEST_SOUNDSCAPES_DIR = \"./data/test_soundscapes\" \n",
    "            self.OUTPUT_DIR = \"./output\"\n",
    "            os.makedirs(self.OUTPUT_DIR, exist_ok=True)\n",
    "\n",
    "cfg = Config()\n",
    "\n",
    "print(f\"Base directory: {cfg.BASE_DIR}\")\n",
    "print(f\"Train audio directory: {cfg.TRAIN_AUDIO_DIR}\")\n",
    "print(f\"Output directory: {cfg.OUTPUT_DIR}\")"
   ]
  },
  {
   "cell_type": "markdown",
   "metadata": {},
   "source": [
    "## Utility Functions\n",
    "\n",
    "Khởi tạo các hàm tiện ích như sau:\n",
    "1. Tải và xử lý file âm thanh\n",
    "2. Đánh giá chất lượng file âm thanh\n",
    "3. Trích xuất đặc trưng tần số âm thanh\n",
    "4. Một số hàm khác"
   ]
  },
  {
   "cell_type": "code",
   "execution_count": null,
   "metadata": {
    "execution": {
     "iopub.execute_input": "2025-05-08T14:04:33.635691Z",
     "iopub.status.busy": "2025-05-08T14:04:33.635379Z",
     "iopub.status.idle": "2025-05-08T14:04:33.648633Z",
     "shell.execute_reply": "2025-05-08T14:04:33.648001Z",
     "shell.execute_reply.started": "2025-05-08T14:04:33.635665Z"
    },
    "trusted": true
   },
   "outputs": [],
   "source": [
    "def load_audio_file(file_path, sr=Config.SR):\n",
    "    \"\"\"\n",
    "    Load file âm thanh và trả về waveform\n",
    "    \"\"\"\n",
    "    try:\n",
    "        y, _ = librosa.load(file_path, sr=sr)\n",
    "        return y\n",
    "    except Exception as e:\n",
    "        print(f\"Error loading {file_path}: {e}\")\n",
    "        return None\n",
    "\n",
    "def assess_audio_quality(y):\n",
    "    \"\"\"\n",
    "    Đánh giá điểm số chất lượng của file âm thanh trong khoảng [0, 1]\n",
    "    \"\"\"\n",
    "    if y is None or len(y) == 0:\n",
    "        return 0\n",
    "    \n",
    "    # Tính toán signal statistics\n",
    "    signal_std = np.std(y)\n",
    "    signal_var = np.var(y)\n",
    "    signal_rms = np.sqrt(np.mean(np.square(y)))\n",
    "    signal_pwr = np.mean(np.square(y))\n",
    "    \n",
    "    # T = std + var + rms + pwr\n",
    "    t_stat = signal_std + signal_var + signal_rms + signal_pwr\n",
    "    \n",
    "    # Chuẩn hóa về khoảng [0, 1]\n",
    "    quality_score = min(1.0, t_stat * 100)\n",
    "    \n",
    "    return quality_score\n",
    "\n",
    "def extract_frequency_characteristics(y, sr=Config.SR):\n",
    "    if y is None or len(y) == 0:\n",
    "        return None\n",
    "    \n",
    "    # Biến đổi sang miền tần số\n",
    "    freqs, psd = periodogram(y, fs=sr)\n",
    "    dominant_freq = freqs[np.argmax(psd)]\n",
    "    \n",
    "    # Tính toán xác suất tần số trong khoảng (20Hz-20kHz)\n",
    "    idx_range = np.where((freqs >= 20) & (freqs <= 20000))[0]\n",
    "    \n",
    "    if len(idx_range) > 0:\n",
    "        audible_freqs = freqs[idx_range]\n",
    "        audible_psd = psd[idx_range]\n",
    "        \n",
    "        if np.sum(audible_psd) > 0:\n",
    "            spectral_centroid = np.sum(audible_freqs * audible_psd) / np.sum(audible_psd)\n",
    "        else:\n",
    "            spectral_centroid = 0\n",
    "            \n",
    "        if np.sum(audible_psd) > 0:\n",
    "            spectral_bandwidth = np.sqrt(np.sum(((audible_freqs - spectral_centroid) ** 2) * audible_psd) / np.sum(audible_psd))\n",
    "        else:\n",
    "            spectral_bandwidth = 0\n",
    "            \n",
    "        audible_psd_nonzero = audible_psd[audible_psd > 0]\n",
    "        if len(audible_psd_nonzero) > 0:\n",
    "            spectral_flatness = stats.mstats.gmean(audible_psd_nonzero) / np.mean(audible_psd_nonzero)\n",
    "        else:\n",
    "            spectral_flatness = 0\n",
    "    else:\n",
    "        spectral_centroid = 0\n",
    "        spectral_bandwidth = 0\n",
    "        spectral_flatness = 0\n",
    "    \n",
    "    return {\n",
    "        'dominant_frequency': dominant_freq,\n",
    "        'spectral_centroid': spectral_centroid,\n",
    "        'spectral_bandwidth': spectral_bandwidth,\n",
    "        'spectral_flatness': spectral_flatness\n",
    "    }"
   ]
  },
  {
   "cell_type": "markdown",
   "metadata": {},
   "source": [
    "## Load Metadata\n",
    "\n",
    "Đầu tiên chúng tôi load `train.csv` file"
   ]
  },
  {
   "cell_type": "code",
   "execution_count": null,
   "metadata": {
    "execution": {
     "iopub.execute_input": "2025-05-08T14:04:33.649796Z",
     "iopub.status.busy": "2025-05-08T14:04:33.649501Z",
     "iopub.status.idle": "2025-05-08T14:04:33.803552Z",
     "shell.execute_reply": "2025-05-08T14:04:33.802858Z",
     "shell.execute_reply.started": "2025-05-08T14:04:33.649771Z"
    },
    "trusted": true
   },
   "outputs": [
    {
     "name": "stdout",
     "output_type": "stream",
     "text": [
      "Loaded metadata with 28564 entries\n",
      "\n",
      "Metadata columns: ['primary_label', 'secondary_labels', 'type', 'filename', 'collection', 'rating', 'url', 'latitude', 'longitude', 'scientific_name', 'common_name', 'author', 'license']\n",
      "\n",
      "Sample of metadata:\n"
     ]
    },
    {
     "data": {
      "text/html": [
       "<div>\n",
       "<style scoped>\n",
       "    .dataframe tbody tr th:only-of-type {\n",
       "        vertical-align: middle;\n",
       "    }\n",
       "\n",
       "    .dataframe tbody tr th {\n",
       "        vertical-align: top;\n",
       "    }\n",
       "\n",
       "    .dataframe thead th {\n",
       "        text-align: right;\n",
       "    }\n",
       "</style>\n",
       "<table border=\"1\" class=\"dataframe\">\n",
       "  <thead>\n",
       "    <tr style=\"text-align: right;\">\n",
       "      <th></th>\n",
       "      <th>primary_label</th>\n",
       "      <th>secondary_labels</th>\n",
       "      <th>type</th>\n",
       "      <th>filename</th>\n",
       "      <th>collection</th>\n",
       "      <th>rating</th>\n",
       "      <th>url</th>\n",
       "      <th>latitude</th>\n",
       "      <th>longitude</th>\n",
       "      <th>scientific_name</th>\n",
       "      <th>common_name</th>\n",
       "      <th>author</th>\n",
       "      <th>license</th>\n",
       "    </tr>\n",
       "  </thead>\n",
       "  <tbody>\n",
       "    <tr>\n",
       "      <th>0</th>\n",
       "      <td>1139490</td>\n",
       "      <td>['']</td>\n",
       "      <td>['']</td>\n",
       "      <td>1139490/CSA36385.ogg</td>\n",
       "      <td>CSA</td>\n",
       "      <td>0.0</td>\n",
       "      <td>http://colecciones.humboldt.org.co/rec/sonidos...</td>\n",
       "      <td>7.3206</td>\n",
       "      <td>-73.7128</td>\n",
       "      <td>Ragoniella pulchella</td>\n",
       "      <td>Ragoniella pulchella</td>\n",
       "      <td>Fabio A. Sarria-S</td>\n",
       "      <td>cc-by-nc-sa 4.0</td>\n",
       "    </tr>\n",
       "    <tr>\n",
       "      <th>1</th>\n",
       "      <td>1139490</td>\n",
       "      <td>['']</td>\n",
       "      <td>['']</td>\n",
       "      <td>1139490/CSA36389.ogg</td>\n",
       "      <td>CSA</td>\n",
       "      <td>0.0</td>\n",
       "      <td>http://colecciones.humboldt.org.co/rec/sonidos...</td>\n",
       "      <td>7.3206</td>\n",
       "      <td>-73.7128</td>\n",
       "      <td>Ragoniella pulchella</td>\n",
       "      <td>Ragoniella pulchella</td>\n",
       "      <td>Fabio A. Sarria-S</td>\n",
       "      <td>cc-by-nc-sa 4.0</td>\n",
       "    </tr>\n",
       "    <tr>\n",
       "      <th>2</th>\n",
       "      <td>1192948</td>\n",
       "      <td>['']</td>\n",
       "      <td>['']</td>\n",
       "      <td>1192948/CSA36358.ogg</td>\n",
       "      <td>CSA</td>\n",
       "      <td>0.0</td>\n",
       "      <td>http://colecciones.humboldt.org.co/rec/sonidos...</td>\n",
       "      <td>7.3791</td>\n",
       "      <td>-73.7313</td>\n",
       "      <td>Oxyprora surinamensis</td>\n",
       "      <td>Oxyprora surinamensis</td>\n",
       "      <td>Fabio A. Sarria-S</td>\n",
       "      <td>cc-by-nc-sa 4.0</td>\n",
       "    </tr>\n",
       "    <tr>\n",
       "      <th>3</th>\n",
       "      <td>1192948</td>\n",
       "      <td>['']</td>\n",
       "      <td>['']</td>\n",
       "      <td>1192948/CSA36366.ogg</td>\n",
       "      <td>CSA</td>\n",
       "      <td>0.0</td>\n",
       "      <td>http://colecciones.humboldt.org.co/rec/sonidos...</td>\n",
       "      <td>7.2800</td>\n",
       "      <td>-73.8582</td>\n",
       "      <td>Oxyprora surinamensis</td>\n",
       "      <td>Oxyprora surinamensis</td>\n",
       "      <td>Fabio A. Sarria-S</td>\n",
       "      <td>cc-by-nc-sa 4.0</td>\n",
       "    </tr>\n",
       "    <tr>\n",
       "      <th>4</th>\n",
       "      <td>1192948</td>\n",
       "      <td>['']</td>\n",
       "      <td>['']</td>\n",
       "      <td>1192948/CSA36373.ogg</td>\n",
       "      <td>CSA</td>\n",
       "      <td>0.0</td>\n",
       "      <td>http://colecciones.humboldt.org.co/rec/sonidos...</td>\n",
       "      <td>7.3791</td>\n",
       "      <td>-73.7313</td>\n",
       "      <td>Oxyprora surinamensis</td>\n",
       "      <td>Oxyprora surinamensis</td>\n",
       "      <td>Fabio A. Sarria-S</td>\n",
       "      <td>cc-by-nc-sa 4.0</td>\n",
       "    </tr>\n",
       "  </tbody>\n",
       "</table>\n",
       "</div>"
      ],
      "text/plain": [
       "  primary_label secondary_labels  type              filename collection  \\\n",
       "0       1139490             ['']  ['']  1139490/CSA36385.ogg        CSA   \n",
       "1       1139490             ['']  ['']  1139490/CSA36389.ogg        CSA   \n",
       "2       1192948             ['']  ['']  1192948/CSA36358.ogg        CSA   \n",
       "3       1192948             ['']  ['']  1192948/CSA36366.ogg        CSA   \n",
       "4       1192948             ['']  ['']  1192948/CSA36373.ogg        CSA   \n",
       "\n",
       "   rating                                                url  latitude  \\\n",
       "0     0.0  http://colecciones.humboldt.org.co/rec/sonidos...    7.3206   \n",
       "1     0.0  http://colecciones.humboldt.org.co/rec/sonidos...    7.3206   \n",
       "2     0.0  http://colecciones.humboldt.org.co/rec/sonidos...    7.3791   \n",
       "3     0.0  http://colecciones.humboldt.org.co/rec/sonidos...    7.2800   \n",
       "4     0.0  http://colecciones.humboldt.org.co/rec/sonidos...    7.3791   \n",
       "\n",
       "   longitude        scientific_name            common_name             author  \\\n",
       "0   -73.7128   Ragoniella pulchella   Ragoniella pulchella  Fabio A. Sarria-S   \n",
       "1   -73.7128   Ragoniella pulchella   Ragoniella pulchella  Fabio A. Sarria-S   \n",
       "2   -73.7313  Oxyprora surinamensis  Oxyprora surinamensis  Fabio A. Sarria-S   \n",
       "3   -73.8582  Oxyprora surinamensis  Oxyprora surinamensis  Fabio A. Sarria-S   \n",
       "4   -73.7313  Oxyprora surinamensis  Oxyprora surinamensis  Fabio A. Sarria-S   \n",
       "\n",
       "           license  \n",
       "0  cc-by-nc-sa 4.0  \n",
       "1  cc-by-nc-sa 4.0  \n",
       "2  cc-by-nc-sa 4.0  \n",
       "3  cc-by-nc-sa 4.0  \n",
       "4  cc-by-nc-sa 4.0  "
      ]
     },
     "metadata": {},
     "output_type": "display_data"
    },
    {
     "name": "stdout",
     "output_type": "stream",
     "text": [
      "\n",
      "Number of unique species: 206\n"
     ]
    }
   ],
   "source": [
    "def load_metadata(cfg):\n",
    "    try:\n",
    "        metadata_path = os.path.join(cfg.BASE_DIR, 'train.csv')\n",
    "        if os.path.exists(metadata_path):\n",
    "            metadata_df = pd.read_csv(metadata_path)\n",
    "            print(f\"Loaded metadata with {len(metadata_df)} entries\")\n",
    "            return metadata_df\n",
    "        else:\n",
    "            print(\"Metadata file not found, proceeding with file system analysis\")\n",
    "            return None\n",
    "    except Exception as e:\n",
    "        print(f\"Error loading metadata: {e}\")\n",
    "        return None\n",
    "\n",
    "metadata_df = load_metadata(cfg)\n",
    "\n",
    "if metadata_df is not None:\n",
    "    print(\"\\nMetadata columns:\", metadata_df.columns.tolist())\n",
    "    print(\"\\nSample of metadata:\")\n",
    "    display(metadata_df.head())\n",
    "    \n",
    "    unique_species = metadata_df['primary_label'].nunique()\n",
    "    print(f\"\\nNumber of unique species: {unique_species}\")"
   ]
  },
  {
   "cell_type": "markdown",
   "metadata": {},
   "source": [
    "## Load Taxonomy Data\n",
    "\n",
    "Load file ánh xạ taxonomy"
   ]
  },
  {
   "cell_type": "code",
   "execution_count": null,
   "metadata": {
    "execution": {
     "iopub.execute_input": "2025-05-08T14:04:33.804420Z",
     "iopub.status.busy": "2025-05-08T14:04:33.804215Z",
     "iopub.status.idle": "2025-05-08T14:04:33.819993Z",
     "shell.execute_reply": "2025-05-08T14:04:33.819227Z",
     "shell.execute_reply.started": "2025-05-08T14:04:33.804402Z"
    },
    "trusted": true
   },
   "outputs": [
    {
     "name": "stdout",
     "output_type": "stream",
     "text": [
      "Loaded taxonomy data with 206 entries\n",
      "\n",
      "Taxonomy columns: ['primary_label', 'inat_taxon_id', 'scientific_name', 'common_name', 'class_name']\n",
      "\n",
      "Sample of taxonomy:\n"
     ]
    },
    {
     "data": {
      "text/html": [
       "<div>\n",
       "<style scoped>\n",
       "    .dataframe tbody tr th:only-of-type {\n",
       "        vertical-align: middle;\n",
       "    }\n",
       "\n",
       "    .dataframe tbody tr th {\n",
       "        vertical-align: top;\n",
       "    }\n",
       "\n",
       "    .dataframe thead th {\n",
       "        text-align: right;\n",
       "    }\n",
       "</style>\n",
       "<table border=\"1\" class=\"dataframe\">\n",
       "  <thead>\n",
       "    <tr style=\"text-align: right;\">\n",
       "      <th></th>\n",
       "      <th>primary_label</th>\n",
       "      <th>inat_taxon_id</th>\n",
       "      <th>scientific_name</th>\n",
       "      <th>common_name</th>\n",
       "      <th>class_name</th>\n",
       "    </tr>\n",
       "  </thead>\n",
       "  <tbody>\n",
       "    <tr>\n",
       "      <th>0</th>\n",
       "      <td>1139490</td>\n",
       "      <td>1139490</td>\n",
       "      <td>Ragoniella pulchella</td>\n",
       "      <td>Ragoniella pulchella</td>\n",
       "      <td>Insecta</td>\n",
       "    </tr>\n",
       "    <tr>\n",
       "      <th>1</th>\n",
       "      <td>1192948</td>\n",
       "      <td>1192948</td>\n",
       "      <td>Oxyprora surinamensis</td>\n",
       "      <td>Oxyprora surinamensis</td>\n",
       "      <td>Insecta</td>\n",
       "    </tr>\n",
       "    <tr>\n",
       "      <th>2</th>\n",
       "      <td>1194042</td>\n",
       "      <td>1194042</td>\n",
       "      <td>Copiphora colombiae</td>\n",
       "      <td>Copiphora colombiae</td>\n",
       "      <td>Insecta</td>\n",
       "    </tr>\n",
       "    <tr>\n",
       "      <th>3</th>\n",
       "      <td>126247</td>\n",
       "      <td>126247</td>\n",
       "      <td>Leptodactylus insularum</td>\n",
       "      <td>Spotted Foam-nest Frog</td>\n",
       "      <td>Amphibia</td>\n",
       "    </tr>\n",
       "    <tr>\n",
       "      <th>4</th>\n",
       "      <td>1346504</td>\n",
       "      <td>1346504</td>\n",
       "      <td>Neoconocephalus brachypterus</td>\n",
       "      <td>Neoconocephalus brachypterus</td>\n",
       "      <td>Insecta</td>\n",
       "    </tr>\n",
       "  </tbody>\n",
       "</table>\n",
       "</div>"
      ],
      "text/plain": [
       "  primary_label  inat_taxon_id               scientific_name  \\\n",
       "0       1139490        1139490          Ragoniella pulchella   \n",
       "1       1192948        1192948         Oxyprora surinamensis   \n",
       "2       1194042        1194042           Copiphora colombiae   \n",
       "3        126247         126247       Leptodactylus insularum   \n",
       "4       1346504        1346504  Neoconocephalus brachypterus   \n",
       "\n",
       "                    common_name class_name  \n",
       "0          Ragoniella pulchella    Insecta  \n",
       "1         Oxyprora surinamensis    Insecta  \n",
       "2           Copiphora colombiae    Insecta  \n",
       "3        Spotted Foam-nest Frog   Amphibia  \n",
       "4  Neoconocephalus brachypterus    Insecta  "
      ]
     },
     "metadata": {},
     "output_type": "display_data"
    }
   ],
   "source": [
    "# Load taxonomy file (file ánh xạ tên)\n",
    "def load_taxonomy(cfg):\n",
    "    try:\n",
    "        taxonomy_path = os.path.join(cfg.BASE_DIR, 'taxonomy.csv')\n",
    "        if os.path.exists(taxonomy_path):\n",
    "            taxonomy_df = pd.read_csv(taxonomy_path)\n",
    "            print(f\"Loaded taxonomy data with {len(taxonomy_df)} entries\")\n",
    "            return taxonomy_df\n",
    "        else:\n",
    "            print(\"Taxonomy file not found\")\n",
    "            return None\n",
    "    except Exception as e:\n",
    "        print(f\"Error loading taxonomy: {e}\")\n",
    "        return None\n",
    "\n",
    "taxonomy_df = load_taxonomy(cfg)\n",
    "\n",
    "if taxonomy_df is not None:\n",
    "    print(\"\\nTaxonomy columns:\", taxonomy_df.columns.tolist())\n",
    "    print(\"\\nSample of taxonomy:\")\n",
    "    display(taxonomy_df.head())\n",
    "    \n",
    "    # Count species by class\n",
    "    if 'class' in taxonomy_df.columns:\n",
    "        class_counts = taxonomy_df['class'].value_counts()\n",
    "        print(\"\\nSpecies count by class:\")\n",
    "        display(class_counts)"
   ]
  },
  {
   "cell_type": "markdown",
   "metadata": {},
   "source": [
    "## Analyze Training Audio Files\n",
    "\n",
    "Thực hiện hiểu các phân bố bản ghi cho từng loài và độ dài trung bình các bản ghi"
   ]
  },
  {
   "cell_type": "code",
   "execution_count": null,
   "metadata": {
    "execution": {
     "iopub.execute_input": "2025-05-08T14:04:33.821653Z",
     "iopub.status.busy": "2025-05-08T14:04:33.821391Z",
     "iopub.status.idle": "2025-05-08T14:04:34.600788Z",
     "shell.execute_reply": "2025-05-08T14:04:34.600101Z",
     "shell.execute_reply.started": "2025-05-08T14:04:33.821627Z"
    },
    "trusted": true
   },
   "outputs": [
    {
     "name": "stdout",
     "output_type": "stream",
     "text": [
      "Found 206 species in metadata\n",
      "Mapped 206 species to directories\n",
      "\n",
      "Samples per species statistics:\n",
      "- Min samples: 2\n",
      "- Max samples: 990\n",
      "- Average samples: 138.7\n",
      "- Median samples: 80.5\n",
      "- Total samples: 28564\n",
      "\n",
      "Species with fewest samples:\n"
     ]
    },
    {
     "data": {
      "text/html": [
       "<div>\n",
       "<style scoped>\n",
       "    .dataframe tbody tr th:only-of-type {\n",
       "        vertical-align: middle;\n",
       "    }\n",
       "\n",
       "    .dataframe tbody tr th {\n",
       "        vertical-align: top;\n",
       "    }\n",
       "\n",
       "    .dataframe thead th {\n",
       "        text-align: right;\n",
       "    }\n",
       "</style>\n",
       "<table border=\"1\" class=\"dataframe\">\n",
       "  <thead>\n",
       "    <tr style=\"text-align: right;\">\n",
       "      <th></th>\n",
       "      <th>species</th>\n",
       "      <th>sample_count</th>\n",
       "    </tr>\n",
       "  </thead>\n",
       "  <tbody>\n",
       "    <tr>\n",
       "      <th>57</th>\n",
       "      <td>81930</td>\n",
       "      <td>2</td>\n",
       "    </tr>\n",
       "    <tr>\n",
       "      <th>52</th>\n",
       "      <td>67082</td>\n",
       "      <td>2</td>\n",
       "    </tr>\n",
       "    <tr>\n",
       "      <th>50</th>\n",
       "      <td>66578</td>\n",
       "      <td>2</td>\n",
       "    </tr>\n",
       "    <tr>\n",
       "      <th>49</th>\n",
       "      <td>66531</td>\n",
       "      <td>2</td>\n",
       "    </tr>\n",
       "    <tr>\n",
       "      <th>48</th>\n",
       "      <td>66016</td>\n",
       "      <td>2</td>\n",
       "    </tr>\n",
       "    <tr>\n",
       "      <th>10</th>\n",
       "      <td>21038</td>\n",
       "      <td>2</td>\n",
       "    </tr>\n",
       "    <tr>\n",
       "      <th>20</th>\n",
       "      <td>41778</td>\n",
       "      <td>2</td>\n",
       "    </tr>\n",
       "    <tr>\n",
       "      <th>11</th>\n",
       "      <td>21116</td>\n",
       "      <td>2</td>\n",
       "    </tr>\n",
       "    <tr>\n",
       "      <th>39</th>\n",
       "      <td>64862</td>\n",
       "      <td>2</td>\n",
       "    </tr>\n",
       "    <tr>\n",
       "      <th>33</th>\n",
       "      <td>528041</td>\n",
       "      <td>2</td>\n",
       "    </tr>\n",
       "  </tbody>\n",
       "</table>\n",
       "</div>"
      ],
      "text/plain": [
       "   species  sample_count\n",
       "57   81930             2\n",
       "52   67082             2\n",
       "50   66578             2\n",
       "49   66531             2\n",
       "48   66016             2\n",
       "10   21038             2\n",
       "20   41778             2\n",
       "11   21116             2\n",
       "39   64862             2\n",
       "33  528041             2"
      ]
     },
     "metadata": {},
     "output_type": "display_data"
    }
   ],
   "source": [
    "def get_species_from_directory(cfg):\n",
    "    \"\"\"Lấy danh sách loài\"\"\"\n",
    "    if os.path.exists(cfg.TRAIN_AUDIO_DIR):\n",
    "        species_list = [d for d in os.listdir(cfg.TRAIN_AUDIO_DIR) \n",
    "                      if os.path.isdir(os.path.join(cfg.TRAIN_AUDIO_DIR, d))]\n",
    "        print(f\"Found {len(species_list)} species directories\")\n",
    "        return species_list\n",
    "    else:\n",
    "        print(f\"Training audio directory not found: {cfg.TRAIN_AUDIO_DIR}\")\n",
    "        return []\n",
    "\n",
    "if metadata_df is not None:\n",
    "    species_list = metadata_df['primary_label'].unique().tolist()\n",
    "    print(f\"Found {len(species_list)} species in metadata\")\n",
    "else:\n",
    "    species_list = get_species_from_directory(cfg)\n",
    "\n",
    "# Tạo mapping tên loài và code\n",
    "species_dir_mapping = {}\n",
    "if os.path.exists(cfg.TRAIN_AUDIO_DIR):\n",
    "    for species in species_list:\n",
    "        species_dir = os.path.join(cfg.TRAIN_AUDIO_DIR, species)\n",
    "        if os.path.isdir(species_dir):\n",
    "            species_dir_mapping[species] = species_dir\n",
    "    \n",
    "    print(f\"Mapped {len(species_dir_mapping)} species to directories\")\n",
    "\n",
    "# Đếm số lượng mỗi loài\n",
    "samples_per_species = {}\n",
    "for species, species_dir in species_dir_mapping.items():\n",
    "    audio_files = [f for f in os.listdir(species_dir) \n",
    "                 if f.endswith(('.mp3', '.ogg', '.wav'))]\n",
    "    samples_per_species[species] = len(audio_files)\n",
    "\n",
    "# Chuyển thành df\n",
    "samples_df = pd.DataFrame({\n",
    "    'species': list(samples_per_species.keys()),\n",
    "    'sample_count': list(samples_per_species.values())\n",
    "}).sort_values('sample_count', ascending=False)\n",
    "\n",
    "print(\"\\nSamples per species statistics:\")\n",
    "print(f\"- Min samples: {samples_df['sample_count'].min()}\")\n",
    "print(f\"- Max samples: {samples_df['sample_count'].max()}\")\n",
    "print(f\"- Average samples: {samples_df['sample_count'].mean():.1f}\")\n",
    "print(f\"- Median samples: {samples_df['sample_count'].median():.1f}\")\n",
    "print(f\"- Total samples: {samples_df['sample_count'].sum()}\")\n",
    "\n",
    "print(\"\\nSpecies with fewest samples:\")\n",
    "display(samples_df.nsmallest(10, 'sample_count'))"
   ]
  },
  {
   "cell_type": "code",
   "execution_count": null,
   "metadata": {
    "execution": {
     "iopub.execute_input": "2025-05-08T14:04:34.602042Z",
     "iopub.status.busy": "2025-05-08T14:04:34.601762Z",
     "iopub.status.idle": "2025-05-08T14:04:35.348574Z",
     "shell.execute_reply": "2025-05-08T14:04:35.347713Z",
     "shell.execute_reply.started": "2025-05-08T14:04:34.602019Z"
    },
    "trusted": true
   },
   "outputs": [
    {
     "data": {
      "image/png": "[encoded data removed]",
      "text/plain": [
       "<Figure size 1200x600 with 1 Axes>"
      ]
     },
     "metadata": {},
     "output_type": "display_data"
    },
    {
     "data": {
      "image/png": "[encoded data removed]",
      "text/plain": [
       "<Figure size 1400x1000 with 1 Axes>"
      ]
     },
     "metadata": {},
     "output_type": "display_data"
    }
   ],
   "source": [
    "# Plot phân bố \n",
    "plt.figure(figsize=(12, 6))\n",
    "plt.hist(samples_df['sample_count'], bins=50, edgecolor='black')\n",
    "plt.title('Phân bố của số lượng bản ghi trên từng loài')\n",
    "plt.xlabel('Số lượng bản ghi âm học')\n",
    "plt.ylabel('Số lượng loài')\n",
    "plt.grid(True, alpha=0.3)\n",
    "plt.show()\n",
    "\n",
    "# Plot top 30 \n",
    "plt.figure(figsize=(14, 10))\n",
    "top_species = samples_df.head(30)\n",
    "sns.barplot(x='sample_count', y='species', data=top_species)\n",
    "plt.title('Top 30 loài có nhiều bản ghi nhất')\n",
    "plt.xlabel('Số lượng bản ghi')\n",
    "plt.grid(True, alpha=0.3)\n",
    "plt.tight_layout()\n",
    "plt.show()"
   ]
  },
  {
   "cell_type": "markdown",
   "metadata": {},
   "source": [
    "## Audio Length Analysis"
   ]
  },
  {
   "cell_type": "code",
   "execution_count": null,
   "metadata": {
    "execution": {
     "iopub.execute_input": "2025-05-08T14:04:35.349737Z",
     "iopub.status.busy": "2025-05-08T14:04:35.349389Z",
     "iopub.status.idle": "2025-05-08T14:23:54.873153Z",
     "shell.execute_reply": "2025-05-08T14:23:54.872254Z",
     "shell.execute_reply.started": "2025-05-08T14:04:35.349712Z"
    },
    "trusted": true
   },
   "outputs": [
    {
     "name": "stdout",
     "output_type": "stream",
     "text": [
      "Analyzing audio lengths for 206 species\n"
     ]
    },
    {
     "data": {
      "application/vnd.jupyter.widget-view+json": {
       "model_id": "d07ab1a5b99e4ee1891e4c4d7b29ac52",
       "version_major": 2,
       "version_minor": 0
      },
      "text/plain": [
       "Species 1/206:   0%|          | 0/2 [00:00<?, ?it/s]"
      ]
     },
     "metadata": {},
     "output_type": "display_data"
    },
    {
     "data": {
      "application/vnd.jupyter.widget-view+json": {
       "model_id": "9d6cfc44547345ab8cb51bc91df47273",
       "version_major": 2,
       "version_minor": 0
      },
      "text/plain": [
       "Species 2/206:   0%|          | 0/4 [00:00<?, ?it/s]"
      ]
     },
     "metadata": {},
     "output_type": "display_data"
    },
    {
     "data": {
      "application/vnd.jupyter.widget-view+json": {
       "model_id": "15cfbad21eb2474b914664f717a5139d",
       "version_major": 2,
       "version_minor": 0
      },
      "text/plain": [
       "Species 3/206:   0%|          | 0/3 [00:00<?, ?it/s]"
      ]
     },
     "metadata": {},
     "output_type": "display_data"
    },
    {
     "data": {
      "application/vnd.jupyter.widget-view+json": {
       "model_id": "a4e6bfc1f3de4eb094b9656d878805f7",
       "version_major": 2,
       "version_minor": 0
      },
      "text/plain": [
       "Species 4/206:   0%|          | 0/6 [00:00<?, ?it/s]"
      ]
     },
     "metadata": {},
     "output_type": "display_data"
    },
    {
     "data": {
      "application/vnd.jupyter.widget-view+json": {
       "model_id": "ebbc732437574b8a9da7c4baf0f4d242",
       "version_major": 2,
       "version_minor": 0
      },
      "text/plain": [
       "Species 5/206:   0%|          | 0/5 [00:00<?, ?it/s]"
      ]
     },
     "metadata": {},
     "output_type": "display_data"
    },
    {
     "data": {
      "application/vnd.jupyter.widget-view+json": {
       "model_id": "be5f7cb041c8432f80df9a5e3d09b7a1",
       "version_major": 2,
       "version_minor": 0
      },
      "text/plain": [
       "Species 6/206:   0%|          | 0/4 [00:00<?, ?it/s]"
      ]
     },
     "metadata": {},
     "output_type": "display_data"
    },
    {
     "data": {
      "application/vnd.jupyter.widget-view+json": {
       "model_id": "8f6938851ae44fdeb105e682671d293e",
       "version_major": 2,
       "version_minor": 0
      },
      "text/plain": [
       "Species 7/206:   0%|          | 0/10 [00:00<?, ?it/s]"
      ]
     },
     "metadata": {},
     "output_type": "display_data"
    },
    {
     "data": {
      "application/vnd.jupyter.widget-view+json": {
       "model_id": "459232d0a017480780fc923e11c7e827",
       "version_major": 2,
       "version_minor": 0
      },
      "text/plain": [
       "Species 8/206:   0%|          | 0/3 [00:00<?, ?it/s]"
      ]
     },
     "metadata": {},
     "output_type": "display_data"
    },
    {
     "data": {
      "application/vnd.jupyter.widget-view+json": {
       "model_id": "080daf1e851049449a64a2bb53281ac4",
       "version_major": 2,
       "version_minor": 0
      },
      "text/plain": [
       "Species 9/206:   0%|          | 0/7 [00:00<?, ?it/s]"
      ]
     },
     "metadata": {},
     "output_type": "display_data"
    },
    {
     "data": {
      "application/vnd.jupyter.widget-view+json": {
       "model_id": "753f12310e1545e1a63974a82c3f69c1",
       "version_major": 2,
       "version_minor": 0
      },
      "text/plain": [
       "Species 10/206:   0%|          | 0/6 [00:00<?, ?it/s]"
      ]
     },
     "metadata": {},
     "output_type": "display_data"
    },
    {
     "data": {
      "application/vnd.jupyter.widget-view+json": {
       "model_id": "0120f7f223cb4075a4681bccfc78f660",
       "version_major": 2,
       "version_minor": 0
      },
      "text/plain": [
       "Species 11/206:   0%|          | 0/2 [00:00<?, ?it/s]"
      ]
     },
     "metadata": {},
     "output_type": "display_data"
    },
    {
     "data": {
      "application/vnd.jupyter.widget-view+json": {
       "model_id": "0cdb0532c62d437c96bc142df64a6797",
       "version_major": 2,
       "version_minor": 0
      },
      "text/plain": [
       "Species 12/206:   0%|          | 0/2 [00:00<?, ?it/s]"
      ]
     },
     "metadata": {},
     "output_type": "display_data"
    },
    {
     "data": {
      "application/vnd.jupyter.widget-view+json": {
       "model_id": "2b15ac77db824245bb1ee616343a90c6",
       "version_major": 2,
       "version_minor": 0
      },
      "text/plain": [
       "Species 13/206:   0%|          | 0/76 [00:00<?, ?it/s]"
      ]
     },
     "metadata": {},
     "output_type": "display_data"
    },
    {
     "data": {
      "application/vnd.jupyter.widget-view+json": {
       "model_id": "a30efcd2af9e44bb960b4a6791a68a4c",
       "version_major": 2,
       "version_minor": 0
      },
      "text/plain": [
       "Species 14/206:   0%|          | 0/47 [00:00<?, ?it/s]"
      ]
     },
     "metadata": {},
     "output_type": "display_data"
    },
    {
     "data": {
      "application/vnd.jupyter.widget-view+json": {
       "model_id": "15d144c8afb94441a932d13260fb6e43",
       "version_major": 2,
       "version_minor": 0
      },
      "text/plain": [
       "Species 15/206:   0%|          | 0/53 [00:00<?, ?it/s]"
      ]
     },
     "metadata": {},
     "output_type": "display_data"
    },
    {
     "data": {
      "application/vnd.jupyter.widget-view+json": {
       "model_id": "94521e1618194924ad8f990cb66743b5",
       "version_major": 2,
       "version_minor": 0
      },
      "text/plain": [
       "Species 16/206:   0%|          | 0/44 [00:00<?, ?it/s]"
      ]
     },
     "metadata": {},
     "output_type": "display_data"
    },
    {
     "data": {
      "application/vnd.jupyter.widget-view+json": {
       "model_id": "405b24b2862a468dacba5e38a592f115",
       "version_major": 2,
       "version_minor": 0
      },
      "text/plain": [
       "Species 17/206:   0%|          | 0/6 [00:00<?, ?it/s]"
      ]
     },
     "metadata": {},
     "output_type": "display_data"
    },
    {
     "data": {
      "application/vnd.jupyter.widget-view+json": {
       "model_id": "fafd7e72c5364c8f91e3cdc3e9caee9c",
       "version_major": 2,
       "version_minor": 0
      },
      "text/plain": [
       "Species 18/206:   0%|          | 0/3 [00:00<?, ?it/s]"
      ]
     },
     "metadata": {},
     "output_type": "display_data"
    },
    {
     "data": {
      "application/vnd.jupyter.widget-view+json": {
       "model_id": "6cfa07c6cbee4c89bcdb1a908a5a12f3",
       "version_major": 2,
       "version_minor": 0
      },
      "text/plain": [
       "Species 19/206:   0%|          | 0/13 [00:00<?, ?it/s]"
      ]
     },
     "metadata": {},
     "output_type": "display_data"
    },
    {
     "data": {
      "application/vnd.jupyter.widget-view+json": {
       "model_id": "e1771a9b6af5414798972f2ef80c61ca",
       "version_major": 2,
       "version_minor": 0
      },
      "text/plain": [
       "Species 20/206:   0%|          | 0/108 [00:00<?, ?it/s]"
      ]
     },
     "metadata": {},
     "output_type": "display_data"
    },
    {
     "data": {
      "application/vnd.jupyter.widget-view+json": {
       "model_id": "d4da5c1c84e6420b927a40932f1162e7",
       "version_major": 2,
       "version_minor": 0
      },
      "text/plain": [
       "Species 21/206:   0%|          | 0/2 [00:00<?, ?it/s]"
      ]
     },
     "metadata": {},
     "output_type": "display_data"
    },
    {
     "data": {
      "application/vnd.jupyter.widget-view+json": {
       "model_id": "752415dbb06243c59e475139d5780028",
       "version_major": 2,
       "version_minor": 0
      },
      "text/plain": [
       "Species 22/206:   0%|          | 0/15 [00:00<?, ?it/s]"
      ]
     },
     "metadata": {},
     "output_type": "display_data"
    },
    {
     "data": {
      "application/vnd.jupyter.widget-view+json": {
       "model_id": "da9dc598c0364f61867ba69d2a43fd3e",
       "version_major": 2,
       "version_minor": 0
      },
      "text/plain": [
       "Species 23/206:   0%|          | 0/19 [00:00<?, ?it/s]"
      ]
     },
     "metadata": {},
     "output_type": "display_data"
    },
    {
     "data": {
      "application/vnd.jupyter.widget-view+json": {
       "model_id": "aaf29944c726435b9497219effa2c10f",
       "version_major": 2,
       "version_minor": 0
      },
      "text/plain": [
       "Species 24/206:   0%|          | 0/2 [00:00<?, ?it/s]"
      ]
     },
     "metadata": {},
     "output_type": "display_data"
    },
    {
     "data": {
      "application/vnd.jupyter.widget-view+json": {
       "model_id": "55ca43aed60f43e1aa7ed5754ff520d8",
       "version_major": 2,
       "version_minor": 0
      },
      "text/plain": [
       "Species 25/206:   0%|          | 0/2 [00:00<?, ?it/s]"
      ]
     },
     "metadata": {},
     "output_type": "display_data"
    },
    {
     "data": {
      "application/vnd.jupyter.widget-view+json": {
       "model_id": "886532412d4644838ae69afbc8815fb1",
       "version_major": 2,
       "version_minor": 0
      },
      "text/plain": [
       "Species 26/206:   0%|          | 0/5 [00:00<?, ?it/s]"
      ]
     },
     "metadata": {},
     "output_type": "display_data"
    },
    {
     "data": {
      "application/vnd.jupyter.widget-view+json": {
       "model_id": "d46f944eacca4741a6fb645c1fcddd88",
       "version_major": 2,
       "version_minor": 0
      },
      "text/plain": [
       "Species 27/206:   0%|          | 0/2 [00:00<?, ?it/s]"
      ]
     },
     "metadata": {},
     "output_type": "display_data"
    },
    {
     "data": {
      "application/vnd.jupyter.widget-view+json": {
       "model_id": "4a2d9776ab9d4a068f46d0a356410ef1",
       "version_major": 2,
       "version_minor": 0
      },
      "text/plain": [
       "Species 28/206:   0%|          | 0/2 [00:00<?, ?it/s]"
      ]
     },
     "metadata": {},
     "output_type": "display_data"
    },
    {
     "data": {
      "application/vnd.jupyter.widget-view+json": {
       "model_id": "4c448b078f274723b7e666dba051e539",
       "version_major": 2,
       "version_minor": 0
      },
      "text/plain": [
       "Species 29/206:   0%|          | 0/5 [00:00<?, ?it/s]"
      ]
     },
     "metadata": {},
     "output_type": "display_data"
    },
    {
     "data": {
      "application/vnd.jupyter.widget-view+json": {
       "model_id": "00ed74a16ea440d7bb6b3ee4b9819d4c",
       "version_major": 2,
       "version_minor": 0
      },
      "text/plain": [
       "Species 30/206:   0%|          | 0/20 [00:00<?, ?it/s]"
      ]
     },
     "metadata": {},
     "output_type": "display_data"
    },
    {
     "data": {
      "application/vnd.jupyter.widget-view+json": {
       "model_id": "ed114018a8dc42c48f301da6a3419c57",
       "version_major": 2,
       "version_minor": 0
      },
      "text/plain": [
       "Species 31/206:   0%|          | 0/30 [00:00<?, ?it/s]"
      ]
     },
     "metadata": {},
     "output_type": "display_data"
    },
    {
     "data": {
      "application/vnd.jupyter.widget-view+json": {
       "model_id": "9e611811d6c5439382c2996fce2ed1c2",
       "version_major": 2,
       "version_minor": 0
      },
      "text/plain": [
       "Species 32/206:   0%|          | 0/58 [00:00<?, ?it/s]"
      ]
     },
     "metadata": {},
     "output_type": "display_data"
    },
    {
     "data": {
      "application/vnd.jupyter.widget-view+json": {
       "model_id": "dbeceecc8d994aed960ca84262cc4f2c",
       "version_major": 2,
       "version_minor": 0
      },
      "text/plain": [
       "Species 33/206:   0%|          | 0/4 [00:00<?, ?it/s]"
      ]
     },
     "metadata": {},
     "output_type": "display_data"
    },
    {
     "data": {
      "application/vnd.jupyter.widget-view+json": {
       "model_id": "1ae7444e555e4690bf056b88d15f0e79",
       "version_major": 2,
       "version_minor": 0
      },
      "text/plain": [
       "Species 34/206:   0%|          | 0/2 [00:00<?, ?it/s]"
      ]
     },
     "metadata": {},
     "output_type": "display_data"
    },
    {
     "data": {
      "application/vnd.jupyter.widget-view+json": {
       "model_id": "cc55c56bf2c34b9bb4f42bdb8b42b3c0",
       "version_major": 2,
       "version_minor": 0
      },
      "text/plain": [
       "Species 35/206:   0%|          | 0/33 [00:00<?, ?it/s]"
      ]
     },
     "metadata": {},
     "output_type": "display_data"
    },
    {
     "data": {
      "application/vnd.jupyter.widget-view+json": {
       "model_id": "a1ab0aad586742c488283553f06921d7",
       "version_major": 2,
       "version_minor": 0
      },
      "text/plain": [
       "Species 36/206:   0%|          | 0/5 [00:00<?, ?it/s]"
      ]
     },
     "metadata": {},
     "output_type": "display_data"
    },
    {
     "data": {
      "application/vnd.jupyter.widget-view+json": {
       "model_id": "6647259326e44329a74a1861c168b452",
       "version_major": 2,
       "version_minor": 0
      },
      "text/plain": [
       "Species 37/206:   0%|          | 0/25 [00:00<?, ?it/s]"
      ]
     },
     "metadata": {},
     "output_type": "display_data"
    },
    {
     "data": {
      "application/vnd.jupyter.widget-view+json": {
       "model_id": "a8cb165ea37c47988ad8c3da1ef4bf86",
       "version_major": 2,
       "version_minor": 0
      },
      "text/plain": [
       "Species 38/206:   0%|          | 0/6 [00:00<?, ?it/s]"
      ]
     },
     "metadata": {},
     "output_type": "display_data"
    },
    {
     "data": {
      "application/vnd.jupyter.widget-view+json": {
       "model_id": "44935406ca7a446a84a5b55ad1bc9474",
       "version_major": 2,
       "version_minor": 0
      },
      "text/plain": [
       "Species 39/206:   0%|          | 0/23 [00:00<?, ?it/s]"
      ]
     },
     "metadata": {},
     "output_type": "display_data"
    },
    {
     "data": {
      "application/vnd.jupyter.widget-view+json": {
       "model_id": "b447b92532ac4dcbbed45dea4a7f35a0",
       "version_major": 2,
       "version_minor": 0
      },
      "text/plain": [
       "Species 40/206:   0%|          | 0/2 [00:00<?, ?it/s]"
      ]
     },
     "metadata": {},
     "output_type": "display_data"
    },
    {
     "data": {
      "application/vnd.jupyter.widget-view+json": {
       "model_id": "00df4d3e5e2145b3bf099267f7a2eb38",
       "version_major": 2,
       "version_minor": 0
      },
      "text/plain": [
       "Species 41/206:   0%|          | 0/6 [00:00<?, ?it/s]"
      ]
     },
     "metadata": {},
     "output_type": "display_data"
    },
    {
     "data": {
      "application/vnd.jupyter.widget-view+json": {
       "model_id": "f7949c3a675f4b5c987774eb281360bc",
       "version_major": 2,
       "version_minor": 0
      },
      "text/plain": [
       "Species 42/206:   0%|          | 0/16 [00:00<?, ?it/s]"
      ]
     },
     "metadata": {},
     "output_type": "display_data"
    },
    {
     "data": {
      "application/vnd.jupyter.widget-view+json": {
       "model_id": "e065ceb5564e49ae8eccdc32e0847dc1",
       "version_major": 2,
       "version_minor": 0
      },
      "text/plain": [
       "Species 43/206:   0%|          | 0/16 [00:00<?, ?it/s]"
      ]
     },
     "metadata": {},
     "output_type": "display_data"
    },
    {
     "data": {
      "application/vnd.jupyter.widget-view+json": {
       "model_id": "f43ff12f40784f969c12461e3011e2d8",
       "version_major": 2,
       "version_minor": 0
      },
      "text/plain": [
       "Species 44/206:   0%|          | 0/32 [00:00<?, ?it/s]"
      ]
     },
     "metadata": {},
     "output_type": "display_data"
    },
    {
     "data": {
      "application/vnd.jupyter.widget-view+json": {
       "model_id": "dd6b3686643346a78ce5abe6b2df8f1b",
       "version_major": 2,
       "version_minor": 0
      },
      "text/plain": [
       "Species 45/206:   0%|          | 0/3 [00:00<?, ?it/s]"
      ]
     },
     "metadata": {},
     "output_type": "display_data"
    },
    {
     "data": {
      "application/vnd.jupyter.widget-view+json": {
       "model_id": "38f3586af560492bb1651e27dcc38437",
       "version_major": 2,
       "version_minor": 0
      },
      "text/plain": [
       "Species 46/206:   0%|          | 0/82 [00:00<?, ?it/s]"
      ]
     },
     "metadata": {},
     "output_type": "display_data"
    },
    {
     "data": {
      "application/vnd.jupyter.widget-view+json": {
       "model_id": "b2b32d43ae1540fca213980aef40b157",
       "version_major": 2,
       "version_minor": 0
      },
      "text/plain": [
       "Species 47/206:   0%|          | 0/7 [00:00<?, ?it/s]"
      ]
     },
     "metadata": {},
     "output_type": "display_data"
    },
    {
     "data": {
      "application/vnd.jupyter.widget-view+json": {
       "model_id": "0048c9caf7ed429aac5986d89f4cd4de",
       "version_major": 2,
       "version_minor": 0
      },
      "text/plain": [
       "Species 48/206:   0%|          | 0/21 [00:00<?, ?it/s]"
      ]
     },
     "metadata": {},
     "output_type": "display_data"
    },
    {
     "data": {
      "application/vnd.jupyter.widget-view+json": {
       "model_id": "5c28def1591846148b462c01ef2017a6",
       "version_major": 2,
       "version_minor": 0
      },
      "text/plain": [
       "Species 49/206:   0%|          | 0/2 [00:00<?, ?it/s]"
      ]
     },
     "metadata": {},
     "output_type": "display_data"
    },
    {
     "data": {
      "application/vnd.jupyter.widget-view+json": {
       "model_id": "3277bbe5071c46f793064c40c9fde1db",
       "version_major": 2,
       "version_minor": 0
      },
      "text/plain": [
       "Species 50/206:   0%|          | 0/2 [00:00<?, ?it/s]"
      ]
     },
     "metadata": {},
     "output_type": "display_data"
    },
    {
     "data": {
      "application/vnd.jupyter.widget-view+json": {
       "model_id": "b62b4ef72f7548b2b54de40ad736e329",
       "version_major": 2,
       "version_minor": 0
      },
      "text/plain": [
       "Species 51/206:   0%|          | 0/2 [00:00<?, ?it/s]"
      ]
     },
     "metadata": {},
     "output_type": "display_data"
    },
    {
     "data": {
      "application/vnd.jupyter.widget-view+json": {
       "model_id": "590605e7fa52414a8e649ccd418a5270",
       "version_major": 2,
       "version_minor": 0
      },
      "text/plain": [
       "Species 52/206:   0%|          | 0/5 [00:00<?, ?it/s]"
      ]
     },
     "metadata": {},
     "output_type": "display_data"
    },
    {
     "data": {
      "application/vnd.jupyter.widget-view+json": {
       "model_id": "ff5362c9becf411cb923de3f5abbabec",
       "version_major": 2,
       "version_minor": 0
      },
      "text/plain": [
       "Species 53/206:   0%|          | 0/2 [00:00<?, ?it/s]"
      ]
     },
     "metadata": {},
     "output_type": "display_data"
    },
    {
     "data": {
      "application/vnd.jupyter.widget-view+json": {
       "model_id": "33941820165d45f4b47a7bed19e94e88",
       "version_major": 2,
       "version_minor": 0
      },
      "text/plain": [
       "Species 54/206:   0%|          | 0/14 [00:00<?, ?it/s]"
      ]
     },
     "metadata": {},
     "output_type": "display_data"
    },
    {
     "data": {
      "application/vnd.jupyter.widget-view+json": {
       "model_id": "e2df915cecc94e24bd8030d59fa610e0",
       "version_major": 2,
       "version_minor": 0
      },
      "text/plain": [
       "Species 55/206:   0%|          | 0/5 [00:00<?, ?it/s]"
      ]
     },
     "metadata": {},
     "output_type": "display_data"
    },
    {
     "data": {
      "application/vnd.jupyter.widget-view+json": {
       "model_id": "c01367ed11af4a03979390e67479d1cd",
       "version_major": 2,
       "version_minor": 0
      },
      "text/plain": [
       "Species 56/206:   0%|          | 0/17 [00:00<?, ?it/s]"
      ]
     },
     "metadata": {},
     "output_type": "display_data"
    },
    {
     "data": {
      "application/vnd.jupyter.widget-view+json": {
       "model_id": "ff195dfdfe4e4a32a3f1dbc0bfe64ac5",
       "version_major": 2,
       "version_minor": 0
      },
      "text/plain": [
       "Species 57/206:   0%|          | 0/7 [00:00<?, ?it/s]"
      ]
     },
     "metadata": {},
     "output_type": "display_data"
    },
    {
     "data": {
      "application/vnd.jupyter.widget-view+json": {
       "model_id": "4364727f0f444af382b857d0c65c30f0",
       "version_major": 2,
       "version_minor": 0
      },
      "text/plain": [
       "Species 58/206:   0%|          | 0/2 [00:00<?, ?it/s]"
      ]
     },
     "metadata": {},
     "output_type": "display_data"
    },
    {
     "data": {
      "application/vnd.jupyter.widget-view+json": {
       "model_id": "620e89375d404d23829a230649366c87",
       "version_major": 2,
       "version_minor": 0
      },
      "text/plain": [
       "Species 59/206:   0%|          | 0/4 [00:00<?, ?it/s]"
      ]
     },
     "metadata": {},
     "output_type": "display_data"
    },
    {
     "data": {
      "application/vnd.jupyter.widget-view+json": {
       "model_id": "920fcfc3a6254d92a90d37863f64a12c",
       "version_major": 2,
       "version_minor": 0
      },
      "text/plain": [
       "Species 60/206:   0%|          | 0/5 [00:00<?, ?it/s]"
      ]
     },
     "metadata": {},
     "output_type": "display_data"
    },
    {
     "data": {
      "application/vnd.jupyter.widget-view+json": {
       "model_id": "dc127c9e1f0f40fa9aa7ce2cc1fdec41",
       "version_major": 2,
       "version_minor": 0
      },
      "text/plain": [
       "Species 61/206:   0%|          | 0/89 [00:00<?, ?it/s]"
      ]
     },
     "metadata": {},
     "output_type": "display_data"
    },
    {
     "data": {
      "application/vnd.jupyter.widget-view+json": {
       "model_id": "9c8861bb797f4a4188e87029a0d31887",
       "version_major": 2,
       "version_minor": 0
      },
      "text/plain": [
       "Species 62/206:   0%|          | 0/409 [00:00<?, ?it/s]"
      ]
     },
     "metadata": {},
     "output_type": "display_data"
    },
    {
     "data": {
      "application/vnd.jupyter.widget-view+json": {
       "model_id": "45ac74f5e284476b8f0006753cbc328b",
       "version_major": 2,
       "version_minor": 0
      },
      "text/plain": [
       "Species 63/206:   0%|          | 0/28 [00:00<?, ?it/s]"
      ]
     },
     "metadata": {},
     "output_type": "display_data"
    },
    {
     "data": {
      "application/vnd.jupyter.widget-view+json": {
       "model_id": "4455a1aea2a9482991efd1b86a70584c",
       "version_major": 2,
       "version_minor": 0
      },
      "text/plain": [
       "Species 64/206:   0%|          | 0/91 [00:00<?, ?it/s]"
      ]
     },
     "metadata": {},
     "output_type": "display_data"
    },
    {
     "data": {
      "application/vnd.jupyter.widget-view+json": {
       "model_id": "a31ad65411f1417c87e7f30b6b924e3c",
       "version_major": 2,
       "version_minor": 0
      },
      "text/plain": [
       "Species 65/206:   0%|          | 0/167 [00:00<?, ?it/s]"
      ]
     },
     "metadata": {},
     "output_type": "display_data"
    },
    {
     "data": {
      "application/vnd.jupyter.widget-view+json": {
       "model_id": "e48e892cba934d6e8c87a322df1638e3",
       "version_major": 2,
       "version_minor": 0
      },
      "text/plain": [
       "Species 66/206:   0%|          | 0/27 [00:00<?, ?it/s]"
      ]
     },
     "metadata": {},
     "output_type": "display_data"
    },
    {
     "data": {
      "application/vnd.jupyter.widget-view+json": {
       "model_id": "16ed21eb7cc54caca823042a0150661c",
       "version_major": 2,
       "version_minor": 0
      },
      "text/plain": [
       "Species 67/206:   0%|          | 0/610 [00:00<?, ?it/s]"
      ]
     },
     "metadata": {},
     "output_type": "display_data"
    },
    {
     "data": {
      "application/vnd.jupyter.widget-view+json": {
       "model_id": "adc04451bf004f75ab3e3e61c29b2963",
       "version_major": 2,
       "version_minor": 0
      },
      "text/plain": [
       "Species 68/206:   0%|          | 0/149 [00:00<?, ?it/s]"
      ]
     },
     "metadata": {},
     "output_type": "display_data"
    },
    {
     "data": {
      "application/vnd.jupyter.widget-view+json": {
       "model_id": "d0b80cdb30b54f148f60f331e00885ef",
       "version_major": 2,
       "version_minor": 0
      },
      "text/plain": [
       "Species 69/206:   0%|          | 0/424 [00:00<?, ?it/s]"
      ]
     },
     "metadata": {},
     "output_type": "display_data"
    },
    {
     "data": {
      "application/vnd.jupyter.widget-view+json": {
       "model_id": "853621c1c6cb402a88ca785a252319f5",
       "version_major": 2,
       "version_minor": 0
      },
      "text/plain": [
       "Species 70/206:   0%|          | 0/93 [00:00<?, ?it/s]"
      ]
     },
     "metadata": {},
     "output_type": "display_data"
    },
    {
     "data": {
      "application/vnd.jupyter.widget-view+json": {
       "model_id": "e1ff3dcc8fb74129928102d186b8874b",
       "version_major": 2,
       "version_minor": 0
      },
      "text/plain": [
       "Species 71/206:   0%|          | 0/176 [00:00<?, ?it/s]"
      ]
     },
     "metadata": {},
     "output_type": "display_data"
    },
    {
     "data": {
      "application/vnd.jupyter.widget-view+json": {
       "model_id": "5e5017484f024cdd8368c7007615dbae",
       "version_major": 2,
       "version_minor": 0
      },
      "text/plain": [
       "Species 72/206:   0%|          | 0/311 [00:00<?, ?it/s]"
      ]
     },
     "metadata": {},
     "output_type": "display_data"
    },
    {
     "data": {
      "application/vnd.jupyter.widget-view+json": {
       "model_id": "243d9239ae794268af52772a5306614c",
       "version_major": 2,
       "version_minor": 0
      },
      "text/plain": [
       "Species 73/206:   0%|          | 0/380 [00:00<?, ?it/s]"
      ]
     },
     "metadata": {},
     "output_type": "display_data"
    },
    {
     "data": {
      "application/vnd.jupyter.widget-view+json": {
       "model_id": "1bf2de4e680b4ec29b3b3b93a182cb47",
       "version_major": 2,
       "version_minor": 0
      },
      "text/plain": [
       "Species 74/206:   0%|          | 0/110 [00:00<?, ?it/s]"
      ]
     },
     "metadata": {},
     "output_type": "display_data"
    },
    {
     "data": {
      "application/vnd.jupyter.widget-view+json": {
       "model_id": "947bd5e7673244feab60fe75fa1f73f8",
       "version_major": 2,
       "version_minor": 0
      },
      "text/plain": [
       "Species 75/206:   0%|          | 0/105 [00:00<?, ?it/s]"
      ]
     },
     "metadata": {},
     "output_type": "display_data"
    },
    {
     "data": {
      "application/vnd.jupyter.widget-view+json": {
       "model_id": "cbf51e8e833e455293b11690070185bf",
       "version_major": 2,
       "version_minor": 0
      },
      "text/plain": [
       "Species 76/206:   0%|          | 0/54 [00:00<?, ?it/s]"
      ]
     },
     "metadata": {},
     "output_type": "display_data"
    },
    {
     "data": {
      "application/vnd.jupyter.widget-view+json": {
       "model_id": "4715c805d1bf41d1a3d4d06c204a93be",
       "version_major": 2,
       "version_minor": 0
      },
      "text/plain": [
       "Species 77/206:   0%|          | 0/108 [00:00<?, ?it/s]"
      ]
     },
     "metadata": {},
     "output_type": "display_data"
    },
    {
     "data": {
      "application/vnd.jupyter.widget-view+json": {
       "model_id": "5b77f6b37bd94734a4131bbacf29632a",
       "version_major": 2,
       "version_minor": 0
      },
      "text/plain": [
       "Species 78/206:   0%|          | 0/32 [00:00<?, ?it/s]"
      ]
     },
     "metadata": {},
     "output_type": "display_data"
    },
    {
     "data": {
      "application/vnd.jupyter.widget-view+json": {
       "model_id": "000cdaeb4d9b42269990f1b5dc44a772",
       "version_major": 2,
       "version_minor": 0
      },
      "text/plain": [
       "Species 79/206:   0%|          | 0/230 [00:00<?, ?it/s]"
      ]
     },
     "metadata": {},
     "output_type": "display_data"
    },
    {
     "data": {
      "application/vnd.jupyter.widget-view+json": {
       "model_id": "40e78874fdf34b01a54b8b0ba0e9e2ab",
       "version_major": 2,
       "version_minor": 0
      },
      "text/plain": [
       "Species 80/206:   0%|          | 0/70 [00:00<?, ?it/s]"
      ]
     },
     "metadata": {},
     "output_type": "display_data"
    },
    {
     "data": {
      "application/vnd.jupyter.widget-view+json": {
       "model_id": "c7a27a7a43754eb79516f94930a431cf",
       "version_major": 2,
       "version_minor": 0
      },
      "text/plain": [
       "Species 81/206:   0%|          | 0/514 [00:00<?, ?it/s]"
      ]
     },
     "metadata": {},
     "output_type": "display_data"
    },
    {
     "data": {
      "application/vnd.jupyter.widget-view+json": {
       "model_id": "9efcf290270e41e1802eeb7633a130c4",
       "version_major": 2,
       "version_minor": 0
      },
      "text/plain": [
       "Species 82/206:   0%|          | 0/39 [00:00<?, ?it/s]"
      ]
     },
     "metadata": {},
     "output_type": "display_data"
    },
    {
     "data": {
      "application/vnd.jupyter.widget-view+json": {
       "model_id": "275a328582144610ac387f5748d4d1fd",
       "version_major": 2,
       "version_minor": 0
      },
      "text/plain": [
       "Species 83/206:   0%|          | 0/74 [00:00<?, ?it/s]"
      ]
     },
     "metadata": {},
     "output_type": "display_data"
    },
    {
     "data": {
      "application/vnd.jupyter.widget-view+json": {
       "model_id": "ddee38a2905f43afb0b07407f4a58593",
       "version_major": 2,
       "version_minor": 0
      },
      "text/plain": [
       "Species 84/206:   0%|          | 0/20 [00:00<?, ?it/s]"
      ]
     },
     "metadata": {},
     "output_type": "display_data"
    },
    {
     "data": {
      "application/vnd.jupyter.widget-view+json": {
       "model_id": "700c240638c949a7ba216231782fb980",
       "version_major": 2,
       "version_minor": 0
      },
      "text/plain": [
       "Species 85/206:   0%|          | 0/379 [00:00<?, ?it/s]"
      ]
     },
     "metadata": {},
     "output_type": "display_data"
    },
    {
     "data": {
      "application/vnd.jupyter.widget-view+json": {
       "model_id": "c73c7d4ca3cb489b9463d49823ae57b8",
       "version_major": 2,
       "version_minor": 0
      },
      "text/plain": [
       "Species 86/206:   0%|          | 0/47 [00:00<?, ?it/s]"
      ]
     },
     "metadata": {},
     "output_type": "display_data"
    },
    {
     "data": {
      "application/vnd.jupyter.widget-view+json": {
       "model_id": "9dea9ddba6de4344960a0164a4852731",
       "version_major": 2,
       "version_minor": 0
      },
      "text/plain": [
       "Species 87/206:   0%|          | 0/280 [00:00<?, ?it/s]"
      ]
     },
     "metadata": {},
     "output_type": "display_data"
    },
    {
     "data": {
      "application/vnd.jupyter.widget-view+json": {
       "model_id": "f2d4a2368ce7412881f40b9c69810f72",
       "version_major": 2,
       "version_minor": 0
      },
      "text/plain": [
       "Species 88/206:   0%|          | 0/298 [00:00<?, ?it/s]"
      ]
     },
     "metadata": {},
     "output_type": "display_data"
    },
    {
     "data": {
      "application/vnd.jupyter.widget-view+json": {
       "model_id": "6c1cb329245743dd9e9cad7d3e960e58",
       "version_major": 2,
       "version_minor": 0
      },
      "text/plain": [
       "Species 89/206:   0%|          | 0/94 [00:00<?, ?it/s]"
      ]
     },
     "metadata": {},
     "output_type": "display_data"
    },
    {
     "data": {
      "application/vnd.jupyter.widget-view+json": {
       "model_id": "6c333e096c894c7aaf9f36f5ad6f6878",
       "version_major": 2,
       "version_minor": 0
      },
      "text/plain": [
       "Species 90/206:   0%|          | 0/114 [00:00<?, ?it/s]"
      ]
     },
     "metadata": {},
     "output_type": "display_data"
    },
    {
     "data": {
      "application/vnd.jupyter.widget-view+json": {
       "model_id": "251db4c799d74a4ea507ef00f034405a",
       "version_major": 2,
       "version_minor": 0
      },
      "text/plain": [
       "Species 91/206:   0%|          | 0/270 [00:00<?, ?it/s]"
      ]
     },
     "metadata": {},
     "output_type": "display_data"
    },
    {
     "data": {
      "application/vnd.jupyter.widget-view+json": {
       "model_id": "a497853efd5449d18f93cc8cdb0a20c4",
       "version_major": 2,
       "version_minor": 0
      },
      "text/plain": [
       "Species 92/206:   0%|          | 0/139 [00:00<?, ?it/s]"
      ]
     },
     "metadata": {},
     "output_type": "display_data"
    },
    {
     "data": {
      "application/vnd.jupyter.widget-view+json": {
       "model_id": "85f1861491c74b1b9c212c02e8097bf4",
       "version_major": 2,
       "version_minor": 0
      },
      "text/plain": [
       "Species 93/206:   0%|          | 0/67 [00:00<?, ?it/s]"
      ]
     },
     "metadata": {},
     "output_type": "display_data"
    },
    {
     "data": {
      "application/vnd.jupyter.widget-view+json": {
       "model_id": "e7b8cc6b072a4004826b4c403affb16e",
       "version_major": 2,
       "version_minor": 0
      },
      "text/plain": [
       "Species 94/206:   0%|          | 0/40 [00:00<?, ?it/s]"
      ]
     },
     "metadata": {},
     "output_type": "display_data"
    },
    {
     "data": {
      "application/vnd.jupyter.widget-view+json": {
       "model_id": "746c311b011340959e220e755f61e8ad",
       "version_major": 2,
       "version_minor": 0
      },
      "text/plain": [
       "Species 95/206:   0%|          | 0/162 [00:00<?, ?it/s]"
      ]
     },
     "metadata": {},
     "output_type": "display_data"
    },
    {
     "data": {
      "application/vnd.jupyter.widget-view+json": {
       "model_id": "cf4947dfdb484905b7caf2a702035f1d",
       "version_major": 2,
       "version_minor": 0
      },
      "text/plain": [
       "Species 96/206:   0%|          | 0/57 [00:00<?, ?it/s]"
      ]
     },
     "metadata": {},
     "output_type": "display_data"
    },
    {
     "data": {
      "application/vnd.jupyter.widget-view+json": {
       "model_id": "764b5c2fd78646fdabc0e2d7c91046e2",
       "version_major": 2,
       "version_minor": 0
      },
      "text/plain": [
       "Species 97/206:   0%|          | 0/145 [00:00<?, ?it/s]"
      ]
     },
     "metadata": {},
     "output_type": "display_data"
    },
    {
     "data": {
      "application/vnd.jupyter.widget-view+json": {
       "model_id": "d52eea3b1ea14f6baf56ebb0224fdecc",
       "version_major": 2,
       "version_minor": 0
      },
      "text/plain": [
       "Species 98/206:   0%|          | 0/808 [00:00<?, ?it/s]"
      ]
     },
     "metadata": {},
     "output_type": "display_data"
    },
    {
     "data": {
      "application/vnd.jupyter.widget-view+json": {
       "model_id": "066870feef3f411dbe07ebe7d70d89e0",
       "version_major": 2,
       "version_minor": 0
      },
      "text/plain": [
       "Species 99/206:   0%|          | 0/383 [00:00<?, ?it/s]"
      ]
     },
     "metadata": {},
     "output_type": "display_data"
    },
    {
     "data": {
      "application/vnd.jupyter.widget-view+json": {
       "model_id": "2ebac47cf6a145acadec4b60119460b2",
       "version_major": 2,
       "version_minor": 0
      },
      "text/plain": [
       "Species 100/206:   0%|          | 0/260 [00:00<?, ?it/s]"
      ]
     },
     "metadata": {},
     "output_type": "display_data"
    },
    {
     "data": {
      "application/vnd.jupyter.widget-view+json": {
       "model_id": "966a843daf5f43e2acd7e3c3bc4b2472",
       "version_major": 2,
       "version_minor": 0
      },
      "text/plain": [
       "Species 101/206:   0%|          | 0/56 [00:00<?, ?it/s]"
      ]
     },
     "metadata": {},
     "output_type": "display_data"
    },
    {
     "data": {
      "application/vnd.jupyter.widget-view+json": {
       "model_id": "6dbe632d72c24ebda58775be1fa3069c",
       "version_major": 2,
       "version_minor": 0
      },
      "text/plain": [
       "Species 102/206:   0%|          | 0/144 [00:00<?, ?it/s]"
      ]
     },
     "metadata": {},
     "output_type": "display_data"
    },
    {
     "data": {
      "application/vnd.jupyter.widget-view+json": {
       "model_id": "e8431fa99dbd4d7786f972d10a50167d",
       "version_major": 2,
       "version_minor": 0
      },
      "text/plain": [
       "Species 103/206:   0%|          | 0/50 [00:00<?, ?it/s]"
      ]
     },
     "metadata": {},
     "output_type": "display_data"
    },
    {
     "data": {
      "application/vnd.jupyter.widget-view+json": {
       "model_id": "8f25dc758d0940eb91db0fe0079a7dda",
       "version_major": 2,
       "version_minor": 0
      },
      "text/plain": [
       "Species 104/206:   0%|          | 0/77 [00:00<?, ?it/s]"
      ]
     },
     "metadata": {},
     "output_type": "display_data"
    },
    {
     "data": {
      "application/vnd.jupyter.widget-view+json": {
       "model_id": "22b8cea641774dfabdfe20a961ded210",
       "version_major": 2,
       "version_minor": 0
      },
      "text/plain": [
       "Species 105/206:   0%|          | 0/229 [00:00<?, ?it/s]"
      ]
     },
     "metadata": {},
     "output_type": "display_data"
    },
    {
     "data": {
      "application/vnd.jupyter.widget-view+json": {
       "model_id": "c6e98eecd9ff4126a6f4c84a41f0492c",
       "version_major": 2,
       "version_minor": 0
      },
      "text/plain": [
       "Species 106/206:   0%|          | 0/105 [00:00<?, ?it/s]"
      ]
     },
     "metadata": {},
     "output_type": "display_data"
    },
    {
     "data": {
      "application/vnd.jupyter.widget-view+json": {
       "model_id": "ef85f4967068437da751974f92b0cee2",
       "version_major": 2,
       "version_minor": 0
      },
      "text/plain": [
       "Species 107/206:   0%|          | 0/80 [00:00<?, ?it/s]"
      ]
     },
     "metadata": {},
     "output_type": "display_data"
    },
    {
     "data": {
      "application/vnd.jupyter.widget-view+json": {
       "model_id": "29fd3e803cb64a1fb982f456c5553dce",
       "version_major": 2,
       "version_minor": 0
      },
      "text/plain": [
       "Species 108/206:   0%|          | 0/134 [00:00<?, ?it/s]"
      ]
     },
     "metadata": {},
     "output_type": "display_data"
    },
    {
     "data": {
      "application/vnd.jupyter.widget-view+json": {
       "model_id": "60eb153b3a0845e5aa473eca57de09d8",
       "version_major": 2,
       "version_minor": 0
      },
      "text/plain": [
       "Species 109/206:   0%|          | 0/85 [00:00<?, ?it/s]"
      ]
     },
     "metadata": {},
     "output_type": "display_data"
    },
    {
     "data": {
      "application/vnd.jupyter.widget-view+json": {
       "model_id": "fdb2e47a268b4280933e98539e5c91f7",
       "version_major": 2,
       "version_minor": 0
      },
      "text/plain": [
       "Species 110/206:   0%|          | 0/107 [00:00<?, ?it/s]"
      ]
     },
     "metadata": {},
     "output_type": "display_data"
    },
    {
     "data": {
      "application/vnd.jupyter.widget-view+json": {
       "model_id": "a47886ea9ec544f0b949e2566b1e3067",
       "version_major": 2,
       "version_minor": 0
      },
      "text/plain": [
       "Species 111/206:   0%|          | 0/127 [00:00<?, ?it/s]"
      ]
     },
     "metadata": {},
     "output_type": "display_data"
    },
    {
     "data": {
      "application/vnd.jupyter.widget-view+json": {
       "model_id": "72c0484bc8ba43e3a48d8e1d282d1e3a",
       "version_major": 2,
       "version_minor": 0
      },
      "text/plain": [
       "Species 112/206:   0%|          | 0/340 [00:00<?, ?it/s]"
      ]
     },
     "metadata": {},
     "output_type": "display_data"
    },
    {
     "data": {
      "application/vnd.jupyter.widget-view+json": {
       "model_id": "d1ed8fad549e4ae6a98ce60bc1b529e2",
       "version_major": 2,
       "version_minor": 0
      },
      "text/plain": [
       "Species 113/206:   0%|          | 0/109 [00:00<?, ?it/s]"
      ]
     },
     "metadata": {},
     "output_type": "display_data"
    },
    {
     "data": {
      "application/vnd.jupyter.widget-view+json": {
       "model_id": "888096f1f38c45c1b6f4ca75ac5365db",
       "version_major": 2,
       "version_minor": 0
      },
      "text/plain": [
       "Species 114/206:   0%|          | 0/990 [00:00<?, ?it/s]"
      ]
     },
     "metadata": {},
     "output_type": "display_data"
    },
    {
     "data": {
      "application/vnd.jupyter.widget-view+json": {
       "model_id": "3dfa2ac5bbb5480380f2d5acb3249c5e",
       "version_major": 2,
       "version_minor": 0
      },
      "text/plain": [
       "Species 115/206:   0%|          | 0/67 [00:00<?, ?it/s]"
      ]
     },
     "metadata": {},
     "output_type": "display_data"
    },
    {
     "data": {
      "application/vnd.jupyter.widget-view+json": {
       "model_id": "0c6cc8d48ba8470ea23242e13da2a411",
       "version_major": 2,
       "version_minor": 0
      },
      "text/plain": [
       "Species 116/206:   0%|          | 0/83 [00:00<?, ?it/s]"
      ]
     },
     "metadata": {},
     "output_type": "display_data"
    },
    {
     "data": {
      "application/vnd.jupyter.widget-view+json": {
       "model_id": "19a886abba3d43078bd557301d477f4a",
       "version_major": 2,
       "version_minor": 0
      },
      "text/plain": [
       "Species 117/206:   0%|          | 0/132 [00:00<?, ?it/s]"
      ]
     },
     "metadata": {},
     "output_type": "display_data"
    },
    {
     "data": {
      "application/vnd.jupyter.widget-view+json": {
       "model_id": "5e434e3f210d4bafafdd550acefc2b9e",
       "version_major": 2,
       "version_minor": 0
      },
      "text/plain": [
       "Species 118/206:   0%|          | 0/25 [00:00<?, ?it/s]"
      ]
     },
     "metadata": {},
     "output_type": "display_data"
    },
    {
     "data": {
      "application/vnd.jupyter.widget-view+json": {
       "model_id": "07b28159e7264b0c8886c839e3821b94",
       "version_major": 2,
       "version_minor": 0
      },
      "text/plain": [
       "Species 119/206:   0%|          | 0/164 [00:00<?, ?it/s]"
      ]
     },
     "metadata": {},
     "output_type": "display_data"
    },
    {
     "data": {
      "application/vnd.jupyter.widget-view+json": {
       "model_id": "799d9d7d3071430e93d3c3e5a7a4b138",
       "version_major": 2,
       "version_minor": 0
      },
      "text/plain": [
       "Species 120/206:   0%|          | 0/365 [00:00<?, ?it/s]"
      ]
     },
     "metadata": {},
     "output_type": "display_data"
    },
    {
     "data": {
      "application/vnd.jupyter.widget-view+json": {
       "model_id": "60eb9f4fcf1d4e288dece1505ca3b8a0",
       "version_major": 2,
       "version_minor": 0
      },
      "text/plain": [
       "Species 121/206:   0%|          | 0/67 [00:00<?, ?it/s]"
      ]
     },
     "metadata": {},
     "output_type": "display_data"
    },
    {
     "data": {
      "application/vnd.jupyter.widget-view+json": {
       "model_id": "1e415e37a01446d2a765c4372f23ccf4",
       "version_major": 2,
       "version_minor": 0
      },
      "text/plain": [
       "Species 122/206:   0%|          | 0/467 [00:00<?, ?it/s]"
      ]
     },
     "metadata": {},
     "output_type": "display_data"
    },
    {
     "data": {
      "application/vnd.jupyter.widget-view+json": {
       "model_id": "662faed78dc04ed38657751ec87edfe6",
       "version_major": 2,
       "version_minor": 0
      },
      "text/plain": [
       "Species 123/206:   0%|          | 0/108 [00:00<?, ?it/s]"
      ]
     },
     "metadata": {},
     "output_type": "display_data"
    },
    {
     "data": {
      "application/vnd.jupyter.widget-view+json": {
       "model_id": "5d6fe307b62f4d079f3f5b2298519bad",
       "version_major": 2,
       "version_minor": 0
      },
      "text/plain": [
       "Species 124/206:   0%|          | 0/330 [00:00<?, ?it/s]"
      ]
     },
     "metadata": {},
     "output_type": "display_data"
    },
    {
     "data": {
      "application/vnd.jupyter.widget-view+json": {
       "model_id": "58f5ba7cc31b4949b3fe79fc11293592",
       "version_major": 2,
       "version_minor": 0
      },
      "text/plain": [
       "Species 125/206:   0%|          | 0/323 [00:00<?, ?it/s]"
      ]
     },
     "metadata": {},
     "output_type": "display_data"
    },
    {
     "data": {
      "application/vnd.jupyter.widget-view+json": {
       "model_id": "d61e107359844d80aac5516504a5569e",
       "version_major": 2,
       "version_minor": 0
      },
      "text/plain": [
       "Species 126/206:   0%|          | 0/109 [00:00<?, ?it/s]"
      ]
     },
     "metadata": {},
     "output_type": "display_data"
    },
    {
     "data": {
      "application/vnd.jupyter.widget-view+json": {
       "model_id": "d96604d4dee246259f4d9288681ccf1f",
       "version_major": 2,
       "version_minor": 0
      },
      "text/plain": [
       "Species 127/206:   0%|          | 0/90 [00:00<?, ?it/s]"
      ]
     },
     "metadata": {},
     "output_type": "display_data"
    },
    {
     "data": {
      "application/vnd.jupyter.widget-view+json": {
       "model_id": "11a2966f1aeb4e729bedf04c0220237f",
       "version_major": 2,
       "version_minor": 0
      },
      "text/plain": [
       "Species 128/206:   0%|          | 0/14 [00:00<?, ?it/s]"
      ]
     },
     "metadata": {},
     "output_type": "display_data"
    },
    {
     "data": {
      "application/vnd.jupyter.widget-view+json": {
       "model_id": "5bf062c1e65b4d238bcb0653e87aaa3a",
       "version_major": 2,
       "version_minor": 0
      },
      "text/plain": [
       "Species 129/206:   0%|          | 0/38 [00:00<?, ?it/s]"
      ]
     },
     "metadata": {},
     "output_type": "display_data"
    },
    {
     "data": {
      "application/vnd.jupyter.widget-view+json": {
       "model_id": "0a91c45393cf491fb854a16ec069e263",
       "version_major": 2,
       "version_minor": 0
      },
      "text/plain": [
       "Species 130/206:   0%|          | 0/218 [00:00<?, ?it/s]"
      ]
     },
     "metadata": {},
     "output_type": "display_data"
    },
    {
     "data": {
      "application/vnd.jupyter.widget-view+json": {
       "model_id": "35db59549dce49a68ec4bbac1798afbc",
       "version_major": 2,
       "version_minor": 0
      },
      "text/plain": [
       "Species 131/206:   0%|          | 0/66 [00:00<?, ?it/s]"
      ]
     },
     "metadata": {},
     "output_type": "display_data"
    },
    {
     "data": {
      "application/vnd.jupyter.widget-view+json": {
       "model_id": "b83956983f27411d9b431490bb1fa745",
       "version_major": 2,
       "version_minor": 0
      },
      "text/plain": [
       "Species 132/206:   0%|          | 0/224 [00:00<?, ?it/s]"
      ]
     },
     "metadata": {},
     "output_type": "display_data"
    },
    {
     "data": {
      "application/vnd.jupyter.widget-view+json": {
       "model_id": "d694635bb7c84b1b86f6e8a0dc9c0d5f",
       "version_major": 2,
       "version_minor": 0
      },
      "text/plain": [
       "Species 133/206:   0%|          | 0/151 [00:00<?, ?it/s]"
      ]
     },
     "metadata": {},
     "output_type": "display_data"
    },
    {
     "data": {
      "application/vnd.jupyter.widget-view+json": {
       "model_id": "7ad6052a1bab4297a54cdd9dbe9ea8b3",
       "version_major": 2,
       "version_minor": 0
      },
      "text/plain": [
       "Species 134/206:   0%|          | 0/55 [00:00<?, ?it/s]"
      ]
     },
     "metadata": {},
     "output_type": "display_data"
    },
    {
     "data": {
      "application/vnd.jupyter.widget-view+json": {
       "model_id": "684734ed092c4d96bf69bec51f2cc7cd",
       "version_major": 2,
       "version_minor": 0
      },
      "text/plain": [
       "Species 135/206:   0%|          | 0/324 [00:00<?, ?it/s]"
      ]
     },
     "metadata": {},
     "output_type": "display_data"
    },
    {
     "data": {
      "application/vnd.jupyter.widget-view+json": {
       "model_id": "e3b959a3681d473f8d94d7ac1a279f36",
       "version_major": 2,
       "version_minor": 0
      },
      "text/plain": [
       "Species 136/206:   0%|          | 0/19 [00:00<?, ?it/s]"
      ]
     },
     "metadata": {},
     "output_type": "display_data"
    },
    {
     "data": {
      "application/vnd.jupyter.widget-view+json": {
       "model_id": "5967fe2c20f04c13869195a923355395",
       "version_major": 2,
       "version_minor": 0
      },
      "text/plain": [
       "Species 137/206:   0%|          | 0/186 [00:00<?, ?it/s]"
      ]
     },
     "metadata": {},
     "output_type": "display_data"
    },
    {
     "data": {
      "application/vnd.jupyter.widget-view+json": {
       "model_id": "8d9394b23acd4281abe77ccbb7f0fd95",
       "version_major": 2,
       "version_minor": 0
      },
      "text/plain": [
       "Species 138/206:   0%|          | 0/6 [00:00<?, ?it/s]"
      ]
     },
     "metadata": {},
     "output_type": "display_data"
    },
    {
     "data": {
      "application/vnd.jupyter.widget-view+json": {
       "model_id": "af3841ed664849d69af9d98d094d8965",
       "version_major": 2,
       "version_minor": 0
      },
      "text/plain": [
       "Species 139/206:   0%|          | 0/38 [00:00<?, ?it/s]"
      ]
     },
     "metadata": {},
     "output_type": "display_data"
    },
    {
     "data": {
      "application/vnd.jupyter.widget-view+json": {
       "model_id": "307b9e38d606439093f5e2f62e12885d",
       "version_major": 2,
       "version_minor": 0
      },
      "text/plain": [
       "Species 140/206:   0%|          | 0/147 [00:00<?, ?it/s]"
      ]
     },
     "metadata": {},
     "output_type": "display_data"
    },
    {
     "data": {
      "application/vnd.jupyter.widget-view+json": {
       "model_id": "c4bd96dd22bc4eaa9a15c6a89050a14c",
       "version_major": 2,
       "version_minor": 0
      },
      "text/plain": [
       "Species 141/206:   0%|          | 0/89 [00:00<?, ?it/s]"
      ]
     },
     "metadata": {},
     "output_type": "display_data"
    },
    {
     "data": {
      "application/vnd.jupyter.widget-view+json": {
       "model_id": "d37a4cc5caaa4d5d9154a6d6baa939a2",
       "version_major": 2,
       "version_minor": 0
      },
      "text/plain": [
       "Species 142/206:   0%|          | 0/55 [00:00<?, ?it/s]"
      ]
     },
     "metadata": {},
     "output_type": "display_data"
    },
    {
     "data": {
      "application/vnd.jupyter.widget-view+json": {
       "model_id": "f13e8ab935a843b6bf07480a44cd6205",
       "version_major": 2,
       "version_minor": 0
      },
      "text/plain": [
       "Species 143/206:   0%|          | 0/90 [00:00<?, ?it/s]"
      ]
     },
     "metadata": {},
     "output_type": "display_data"
    },
    {
     "data": {
      "application/vnd.jupyter.widget-view+json": {
       "model_id": "92d8d3c5f187497d9ace16a97b23c511",
       "version_major": 2,
       "version_minor": 0
      },
      "text/plain": [
       "Species 144/206:   0%|          | 0/222 [00:00<?, ?it/s]"
      ]
     },
     "metadata": {},
     "output_type": "display_data"
    },
    {
     "data": {
      "application/vnd.jupyter.widget-view+json": {
       "model_id": "e25288c6e20649d292c276e8c041cd7b",
       "version_major": 2,
       "version_minor": 0
      },
      "text/plain": [
       "Species 145/206:   0%|          | 0/709 [00:00<?, ?it/s]"
      ]
     },
     "metadata": {},
     "output_type": "display_data"
    },
    {
     "data": {
      "application/vnd.jupyter.widget-view+json": {
       "model_id": "9c35dd1e13e5416780f823450d43ffa5",
       "version_major": 2,
       "version_minor": 0
      },
      "text/plain": [
       "Species 146/206:   0%|          | 0/34 [00:00<?, ?it/s]"
      ]
     },
     "metadata": {},
     "output_type": "display_data"
    },
    {
     "data": {
      "application/vnd.jupyter.widget-view+json": {
       "model_id": "e7db2b5a80394fab8583934248355118",
       "version_major": 2,
       "version_minor": 0
      },
      "text/plain": [
       "Species 147/206:   0%|          | 0/40 [00:00<?, ?it/s]"
      ]
     },
     "metadata": {},
     "output_type": "display_data"
    },
    {
     "data": {
      "application/vnd.jupyter.widget-view+json": {
       "model_id": "06f4025faadc435fbe60f7e7d71d3e9e",
       "version_major": 2,
       "version_minor": 0
      },
      "text/plain": [
       "Species 148/206:   0%|          | 0/148 [00:00<?, ?it/s]"
      ]
     },
     "metadata": {},
     "output_type": "display_data"
    },
    {
     "data": {
      "application/vnd.jupyter.widget-view+json": {
       "model_id": "edd10cf694324e149853825ccbe34daa",
       "version_major": 2,
       "version_minor": 0
      },
      "text/plain": [
       "Species 149/206:   0%|          | 0/70 [00:00<?, ?it/s]"
      ]
     },
     "metadata": {},
     "output_type": "display_data"
    },
    {
     "data": {
      "application/vnd.jupyter.widget-view+json": {
       "model_id": "cb6140ab9a2545e2bdf140b2252259f5",
       "version_major": 2,
       "version_minor": 0
      },
      "text/plain": [
       "Species 150/206:   0%|          | 0/97 [00:00<?, ?it/s]"
      ]
     },
     "metadata": {},
     "output_type": "display_data"
    },
    {
     "data": {
      "application/vnd.jupyter.widget-view+json": {
       "model_id": "0a8349e444e94e4484e19a879086bd1b",
       "version_major": 2,
       "version_minor": 0
      },
      "text/plain": [
       "Species 151/206:   0%|          | 0/138 [00:00<?, ?it/s]"
      ]
     },
     "metadata": {},
     "output_type": "display_data"
    },
    {
     "data": {
      "application/vnd.jupyter.widget-view+json": {
       "model_id": "c3805c23d239466793a322e260129417",
       "version_major": 2,
       "version_minor": 0
      },
      "text/plain": [
       "Species 152/206:   0%|          | 0/236 [00:00<?, ?it/s]"
      ]
     },
     "metadata": {},
     "output_type": "display_data"
    },
    {
     "data": {
      "application/vnd.jupyter.widget-view+json": {
       "model_id": "8fd7db19cf94455ba2044a05ae5251f7",
       "version_major": 2,
       "version_minor": 0
      },
      "text/plain": [
       "Species 153/206:   0%|          | 0/80 [00:00<?, ?it/s]"
      ]
     },
     "metadata": {},
     "output_type": "display_data"
    },
    {
     "data": {
      "application/vnd.jupyter.widget-view+json": {
       "model_id": "9e0e166243ec46a78771535300d68544",
       "version_major": 2,
       "version_minor": 0
      },
      "text/plain": [
       "Species 154/206:   0%|          | 0/261 [00:00<?, ?it/s]"
      ]
     },
     "metadata": {},
     "output_type": "display_data"
    },
    {
     "data": {
      "application/vnd.jupyter.widget-view+json": {
       "model_id": "bfef14f31215465d82dd49593441181f",
       "version_major": 2,
       "version_minor": 0
      },
      "text/plain": [
       "Species 155/206:   0%|          | 0/17 [00:00<?, ?it/s]"
      ]
     },
     "metadata": {},
     "output_type": "display_data"
    },
    {
     "data": {
      "application/vnd.jupyter.widget-view+json": {
       "model_id": "ad8ed9f6117a4c768efc9e4f7f34a158",
       "version_major": 2,
       "version_minor": 0
      },
      "text/plain": [
       "Species 156/206:   0%|          | 0/419 [00:00<?, ?it/s]"
      ]
     },
     "metadata": {},
     "output_type": "display_data"
    },
    {
     "data": {
      "application/vnd.jupyter.widget-view+json": {
       "model_id": "57ded030f2da454a80d75c6fe093b196",
       "version_major": 2,
       "version_minor": 0
      },
      "text/plain": [
       "Species 157/206:   0%|          | 0/14 [00:00<?, ?it/s]"
      ]
     },
     "metadata": {},
     "output_type": "display_data"
    },
    {
     "data": {
      "application/vnd.jupyter.widget-view+json": {
       "model_id": "26eef2eba39d46f793b74347782fb07c",
       "version_major": 2,
       "version_minor": 0
      },
      "text/plain": [
       "Species 158/206:   0%|          | 0/54 [00:00<?, ?it/s]"
      ]
     },
     "metadata": {},
     "output_type": "display_data"
    },
    {
     "data": {
      "application/vnd.jupyter.widget-view+json": {
       "model_id": "30c47ce32e5a4f5b8460a45af1fa0ac8",
       "version_major": 2,
       "version_minor": 0
      },
      "text/plain": [
       "Species 159/206:   0%|          | 0/158 [00:00<?, ?it/s]"
      ]
     },
     "metadata": {},
     "output_type": "display_data"
    },
    {
     "data": {
      "application/vnd.jupyter.widget-view+json": {
       "model_id": "35cf881f774b4cd8aebf0266711940fa",
       "version_major": 2,
       "version_minor": 0
      },
      "text/plain": [
       "Species 160/206:   0%|          | 0/15 [00:00<?, ?it/s]"
      ]
     },
     "metadata": {},
     "output_type": "display_data"
    },
    {
     "data": {
      "application/vnd.jupyter.widget-view+json": {
       "model_id": "99fb30b393b2404ba73ab4349972d2d7",
       "version_major": 2,
       "version_minor": 0
      },
      "text/plain": [
       "Species 161/206:   0%|          | 0/90 [00:00<?, ?it/s]"
      ]
     },
     "metadata": {},
     "output_type": "display_data"
    },
    {
     "data": {
      "application/vnd.jupyter.widget-view+json": {
       "model_id": "ed13c5eba64b4a178957a01159214669",
       "version_major": 2,
       "version_minor": 0
      },
      "text/plain": [
       "Species 162/206:   0%|          | 0/287 [00:00<?, ?it/s]"
      ]
     },
     "metadata": {},
     "output_type": "display_data"
    },
    {
     "data": {
      "application/vnd.jupyter.widget-view+json": {
       "model_id": "0ff0495d9d014419b30d8c2466a74df0",
       "version_major": 2,
       "version_minor": 0
      },
      "text/plain": [
       "Species 163/206:   0%|          | 0/108 [00:00<?, ?it/s]"
      ]
     },
     "metadata": {},
     "output_type": "display_data"
    },
    {
     "data": {
      "application/vnd.jupyter.widget-view+json": {
       "model_id": "6ddfc3d886fe4b78b625a430e0cb2a97",
       "version_major": 2,
       "version_minor": 0
      },
      "text/plain": [
       "Species 164/206:   0%|          | 0/478 [00:00<?, ?it/s]"
      ]
     },
     "metadata": {},
     "output_type": "display_data"
    },
    {
     "data": {
      "application/vnd.jupyter.widget-view+json": {
       "model_id": "8a42c413199a41e8aa993703de598b3c",
       "version_major": 2,
       "version_minor": 0
      },
      "text/plain": [
       "Species 165/206:   0%|          | 0/543 [00:00<?, ?it/s]"
      ]
     },
     "metadata": {},
     "output_type": "display_data"
    },
    {
     "data": {
      "application/vnd.jupyter.widget-view+json": {
       "model_id": "2e3ee4444cb74246a2dd8b781eba939f",
       "version_major": 2,
       "version_minor": 0
      },
      "text/plain": [
       "Species 166/206:   0%|          | 0/237 [00:00<?, ?it/s]"
      ]
     },
     "metadata": {},
     "output_type": "display_data"
    },
    {
     "data": {
      "application/vnd.jupyter.widget-view+json": {
       "model_id": "22608540b1e0435b836f635f5ffa7cde",
       "version_major": 2,
       "version_minor": 0
      },
      "text/plain": [
       "Species 167/206:   0%|          | 0/487 [00:00<?, ?it/s]"
      ]
     },
     "metadata": {},
     "output_type": "display_data"
    },
    {
     "data": {
      "application/vnd.jupyter.widget-view+json": {
       "model_id": "1affaf366e1c46669715b6ea3f7c63ce",
       "version_major": 2,
       "version_minor": 0
      },
      "text/plain": [
       "Species 168/206:   0%|          | 0/48 [00:00<?, ?it/s]"
      ]
     },
     "metadata": {},
     "output_type": "display_data"
    },
    {
     "data": {
      "application/vnd.jupyter.widget-view+json": {
       "model_id": "8cc044e77f1143e681cd77041d5bb415",
       "version_major": 2,
       "version_minor": 0
      },
      "text/plain": [
       "Species 169/206:   0%|          | 0/201 [00:00<?, ?it/s]"
      ]
     },
     "metadata": {},
     "output_type": "display_data"
    },
    {
     "data": {
      "application/vnd.jupyter.widget-view+json": {
       "model_id": "20348774321d42f4a8f746e995db604a",
       "version_major": 2,
       "version_minor": 0
      },
      "text/plain": [
       "Species 170/206:   0%|          | 0/81 [00:00<?, ?it/s]"
      ]
     },
     "metadata": {},
     "output_type": "display_data"
    },
    {
     "data": {
      "application/vnd.jupyter.widget-view+json": {
       "model_id": "d3734962d56f4294b6717168be5dc71a",
       "version_major": 2,
       "version_minor": 0
      },
      "text/plain": [
       "Species 171/206:   0%|          | 0/112 [00:00<?, ?it/s]"
      ]
     },
     "metadata": {},
     "output_type": "display_data"
    },
    {
     "data": {
      "application/vnd.jupyter.widget-view+json": {
       "model_id": "959b931dd61948afb73e02e32b6f237e",
       "version_major": 2,
       "version_minor": 0
      },
      "text/plain": [
       "Species 172/206:   0%|          | 0/210 [00:00<?, ?it/s]"
      ]
     },
     "metadata": {},
     "output_type": "display_data"
    },
    {
     "data": {
      "application/vnd.jupyter.widget-view+json": {
       "model_id": "e9f7897969404e3d9f99c1dd2a074c20",
       "version_major": 2,
       "version_minor": 0
      },
      "text/plain": [
       "Species 173/206:   0%|          | 0/431 [00:00<?, ?it/s]"
      ]
     },
     "metadata": {},
     "output_type": "display_data"
    },
    {
     "data": {
      "application/vnd.jupyter.widget-view+json": {
       "model_id": "909b417645724fc294caf4a3775530a9",
       "version_major": 2,
       "version_minor": 0
      },
      "text/plain": [
       "Species 174/206:   0%|          | 0/377 [00:00<?, ?it/s]"
      ]
     },
     "metadata": {},
     "output_type": "display_data"
    },
    {
     "data": {
      "application/vnd.jupyter.widget-view+json": {
       "model_id": "460ba8e2f3f046378e84a4d7fb75c2e2",
       "version_major": 2,
       "version_minor": 0
      },
      "text/plain": [
       "Species 175/206:   0%|          | 0/169 [00:00<?, ?it/s]"
      ]
     },
     "metadata": {},
     "output_type": "display_data"
    },
    {
     "data": {
      "application/vnd.jupyter.widget-view+json": {
       "model_id": "322685682ecb4983aea11f25cd524f60",
       "version_major": 2,
       "version_minor": 0
      },
      "text/plain": [
       "Species 176/206:   0%|          | 0/164 [00:00<?, ?it/s]"
      ]
     },
     "metadata": {},
     "output_type": "display_data"
    },
    {
     "data": {
      "application/vnd.jupyter.widget-view+json": {
       "model_id": "865ddf6f29794264ae907c5cf8e0b10c",
       "version_major": 2,
       "version_minor": 0
      },
      "text/plain": [
       "Species 177/206:   0%|          | 0/40 [00:00<?, ?it/s]"
      ]
     },
     "metadata": {},
     "output_type": "display_data"
    },
    {
     "data": {
      "application/vnd.jupyter.widget-view+json": {
       "model_id": "d4488ab857f342e8bcc3a3c1bfa20eb9",
       "version_major": 2,
       "version_minor": 0
      },
      "text/plain": [
       "Species 178/206:   0%|          | 0/153 [00:00<?, ?it/s]"
      ]
     },
     "metadata": {},
     "output_type": "display_data"
    },
    {
     "data": {
      "application/vnd.jupyter.widget-view+json": {
       "model_id": "f0dad310afe84219ac15fecf12990b0a",
       "version_major": 2,
       "version_minor": 0
      },
      "text/plain": [
       "Species 179/206:   0%|          | 0/97 [00:00<?, ?it/s]"
      ]
     },
     "metadata": {},
     "output_type": "display_data"
    },
    {
     "data": {
      "application/vnd.jupyter.widget-view+json": {
       "model_id": "4dd9c9a5942f40f4ba22e19076bb86f0",
       "version_major": 2,
       "version_minor": 0
      },
      "text/plain": [
       "Species 180/206:   0%|          | 0/787 [00:00<?, ?it/s]"
      ]
     },
     "metadata": {},
     "output_type": "display_data"
    },
    {
     "data": {
      "application/vnd.jupyter.widget-view+json": {
       "model_id": "002a9888bf0547c296a39cc1e9d324f0",
       "version_major": 2,
       "version_minor": 0
      },
      "text/plain": [
       "Species 181/206:   0%|          | 0/397 [00:00<?, ?it/s]"
      ]
     },
     "metadata": {},
     "output_type": "display_data"
    },
    {
     "data": {
      "application/vnd.jupyter.widget-view+json": {
       "model_id": "e1e366f8d3eb4d9ca8aa4a6d96c33d78",
       "version_major": 2,
       "version_minor": 0
      },
      "text/plain": [
       "Species 182/206:   0%|          | 0/470 [00:00<?, ?it/s]"
      ]
     },
     "metadata": {},
     "output_type": "display_data"
    },
    {
     "data": {
      "application/vnd.jupyter.widget-view+json": {
       "model_id": "ee33363e6cc64be9b44fd865a3066e3e",
       "version_major": 2,
       "version_minor": 0
      },
      "text/plain": [
       "Species 183/206:   0%|          | 0/11 [00:00<?, ?it/s]"
      ]
     },
     "metadata": {},
     "output_type": "display_data"
    },
    {
     "data": {
      "application/vnd.jupyter.widget-view+json": {
       "model_id": "39edd0e02d684312b46d0bfb914f28c8",
       "version_major": 2,
       "version_minor": 0
      },
      "text/plain": [
       "Species 184/206:   0%|          | 0/69 [00:00<?, ?it/s]"
      ]
     },
     "metadata": {},
     "output_type": "display_data"
    },
    {
     "data": {
      "application/vnd.jupyter.widget-view+json": {
       "model_id": "074dae6658904ba59c70695b0f4a4e65",
       "version_major": 2,
       "version_minor": 0
      },
      "text/plain": [
       "Species 185/206:   0%|          | 0/133 [00:00<?, ?it/s]"
      ]
     },
     "metadata": {},
     "output_type": "display_data"
    },
    {
     "data": {
      "application/vnd.jupyter.widget-view+json": {
       "model_id": "4313718de8f9497cb296c8ddc714a2ab",
       "version_major": 2,
       "version_minor": 0
      },
      "text/plain": [
       "Species 186/206:   0%|          | 0/499 [00:00<?, ?it/s]"
      ]
     },
     "metadata": {},
     "output_type": "display_data"
    },
    {
     "data": {
      "application/vnd.jupyter.widget-view+json": {
       "model_id": "ac85fec6f49548daa0a044a0539e5a54",
       "version_major": 2,
       "version_minor": 0
      },
      "text/plain": [
       "Species 187/206:   0%|          | 0/104 [00:00<?, ?it/s]"
      ]
     },
     "metadata": {},
     "output_type": "display_data"
    },
    {
     "data": {
      "application/vnd.jupyter.widget-view+json": {
       "model_id": "30fdc1ddec734155aa223628bcf504a4",
       "version_major": 2,
       "version_minor": 0
      },
      "text/plain": [
       "Species 188/206:   0%|          | 0/246 [00:00<?, ?it/s]"
      ]
     },
     "metadata": {},
     "output_type": "display_data"
    },
    {
     "data": {
      "application/vnd.jupyter.widget-view+json": {
       "model_id": "cd776788172244e9a85d3e724c7fbf38",
       "version_major": 2,
       "version_minor": 0
      },
      "text/plain": [
       "Species 189/206:   0%|          | 0/126 [00:00<?, ?it/s]"
      ]
     },
     "metadata": {},
     "output_type": "display_data"
    },
    {
     "data": {
      "application/vnd.jupyter.widget-view+json": {
       "model_id": "eff97074064142f29274013b3ac03c78",
       "version_major": 2,
       "version_minor": 0
      },
      "text/plain": [
       "Species 190/206:   0%|          | 0/34 [00:00<?, ?it/s]"
      ]
     },
     "metadata": {},
     "output_type": "display_data"
    },
    {
     "data": {
      "application/vnd.jupyter.widget-view+json": {
       "model_id": "940830196b614d9bb9ba86ae58520aaa",
       "version_major": 2,
       "version_minor": 0
      },
      "text/plain": [
       "Species 191/206:   0%|          | 0/572 [00:00<?, ?it/s]"
      ]
     },
     "metadata": {},
     "output_type": "display_data"
    },
    {
     "data": {
      "application/vnd.jupyter.widget-view+json": {
       "model_id": "70c34e1a554843849edb71c23ae82bd3",
       "version_major": 2,
       "version_minor": 0
      },
      "text/plain": [
       "Species 192/206:   0%|          | 0/75 [00:00<?, ?it/s]"
      ]
     },
     "metadata": {},
     "output_type": "display_data"
    },
    {
     "data": {
      "application/vnd.jupyter.widget-view+json": {
       "model_id": "88e4942a67fb47dba7640d65ca9bef0f",
       "version_major": 2,
       "version_minor": 0
      },
      "text/plain": [
       "Species 193/206:   0%|          | 0/50 [00:00<?, ?it/s]"
      ]
     },
     "metadata": {},
     "output_type": "display_data"
    },
    {
     "data": {
      "application/vnd.jupyter.widget-view+json": {
       "model_id": "cc45b033a5224d4eaad8bdd27b9333a8",
       "version_major": 2,
       "version_minor": 0
      },
      "text/plain": [
       "Species 194/206:   0%|          | 0/27 [00:00<?, ?it/s]"
      ]
     },
     "metadata": {},
     "output_type": "display_data"
    },
    {
     "data": {
      "application/vnd.jupyter.widget-view+json": {
       "model_id": "05548b6e561142d3b56d6ce7a674e5c8",
       "version_major": 2,
       "version_minor": 0
      },
      "text/plain": [
       "Species 195/206:   0%|          | 0/169 [00:00<?, ?it/s]"
      ]
     },
     "metadata": {},
     "output_type": "display_data"
    },
    {
     "data": {
      "application/vnd.jupyter.widget-view+json": {
       "model_id": "4484d2f643404463954523640a150541",
       "version_major": 2,
       "version_minor": 0
      },
      "text/plain": [
       "Species 196/206:   0%|          | 0/267 [00:00<?, ?it/s]"
      ]
     },
     "metadata": {},
     "output_type": "display_data"
    },
    {
     "data": {
      "application/vnd.jupyter.widget-view+json": {
       "model_id": "16ce579b59ff4219bdf07057214c335a",
       "version_major": 2,
       "version_minor": 0
      },
      "text/plain": [
       "Species 197/206:   0%|          | 0/188 [00:00<?, ?it/s]"
      ]
     },
     "metadata": {},
     "output_type": "display_data"
    },
    {
     "data": {
      "application/vnd.jupyter.widget-view+json": {
       "model_id": "45b34db1c8df4f668f520f271a8a85fb",
       "version_major": 2,
       "version_minor": 0
      },
      "text/plain": [
       "Species 198/206:   0%|          | 0/185 [00:00<?, ?it/s]"
      ]
     },
     "metadata": {},
     "output_type": "display_data"
    },
    {
     "data": {
      "application/vnd.jupyter.widget-view+json": {
       "model_id": "039a5cbb80964f3fb9513d38fdda68a4",
       "version_major": 2,
       "version_minor": 0
      },
      "text/plain": [
       "Species 199/206:   0%|          | 0/235 [00:00<?, ?it/s]"
      ]
     },
     "metadata": {},
     "output_type": "display_data"
    },
    {
     "data": {
      "application/vnd.jupyter.widget-view+json": {
       "model_id": "0fac75ab39954b74999fe12ae8316cae",
       "version_major": 2,
       "version_minor": 0
      },
      "text/plain": [
       "Species 200/206:   0%|          | 0/97 [00:00<?, ?it/s]"
      ]
     },
     "metadata": {},
     "output_type": "display_data"
    },
    {
     "data": {
      "application/vnd.jupyter.widget-view+json": {
       "model_id": "74e25f9caf6c435bb383e43908fbbdfa",
       "version_major": 2,
       "version_minor": 0
      },
      "text/plain": [
       "Species 201/206:   0%|          | 0/79 [00:00<?, ?it/s]"
      ]
     },
     "metadata": {},
     "output_type": "display_data"
    },
    {
     "data": {
      "application/vnd.jupyter.widget-view+json": {
       "model_id": "05f4deefeddf4e62bab91cdb0a6f0559",
       "version_major": 2,
       "version_minor": 0
      },
      "text/plain": [
       "Species 202/206:   0%|          | 0/238 [00:00<?, ?it/s]"
      ]
     },
     "metadata": {},
     "output_type": "display_data"
    },
    {
     "data": {
      "application/vnd.jupyter.widget-view+json": {
       "model_id": "b13683b0aa3c4191a39630de4035c6d2",
       "version_major": 2,
       "version_minor": 0
      },
      "text/plain": [
       "Species 203/206:   0%|          | 0/60 [00:00<?, ?it/s]"
      ]
     },
     "metadata": {},
     "output_type": "display_data"
    },
    {
     "data": {
      "application/vnd.jupyter.widget-view+json": {
       "model_id": "08d877efa70749ad805f986488532f07",
       "version_major": 2,
       "version_minor": 0
      },
      "text/plain": [
       "Species 204/206:   0%|          | 0/525 [00:00<?, ?it/s]"
      ]
     },
     "metadata": {},
     "output_type": "display_data"
    },
    {
     "data": {
      "application/vnd.jupyter.widget-view+json": {
       "model_id": "3b5b4b476e7d4327b132a26614bc46c5",
       "version_major": 2,
       "version_minor": 0
      },
      "text/plain": [
       "Species 205/206:   0%|          | 0/302 [00:00<?, ?it/s]"
      ]
     },
     "metadata": {},
     "output_type": "display_data"
    },
    {
     "data": {
      "application/vnd.jupyter.widget-view+json": {
       "model_id": "b50cdd860f834d18b6ff26c2b9802496",
       "version_major": 2,
       "version_minor": 0
      },
      "text/plain": [
       "Species 206/206:   0%|          | 0/142 [00:00<?, ?it/s]"
      ]
     },
     "metadata": {},
     "output_type": "display_data"
    },
    {
     "name": "stdout",
     "output_type": "stream",
     "text": [
      "\n",
      "Audio Length Statistics:\n",
      "- Number of files analyzed: 28564\n",
      "- Average length: 35.35 seconds\n",
      "- Min length: 0.54 seconds\n",
      "- Max length: 1774.39 seconds\n",
      "- Median length: 20.98 seconds\n"
     ]
    },
    {
     "data": {
      "image/png": "[encoded data removed]",
      "text/plain": [
       "<Figure size 1200x600 with 1 Axes>"
      ]
     },
     "metadata": {},
     "output_type": "display_data"
    }
   ],
   "source": [
    "def analyze_audio_length(species_list, species_dir_mapping, cfg):\n",
    "    results = {\n",
    "        'audio_lengths': [],\n",
    "        'species_lengths': {}\n",
    "    }\n",
    "    if cfg.DEBUG_MODE:\n",
    "        np.random.seed(42)\n",
    "        if len(species_list) > 20:  #lấy 20 loài nếu test\n",
    "            species_subset = np.random.choice(species_list, 20, replace=False).tolist()\n",
    "        else:\n",
    "            species_subset = species_list\n",
    "    else:\n",
    "        species_subset = species_list\n",
    "    \n",
    "    print(f\"Analyzing audio lengths for {len(species_subset)} species\")\n",
    "    \n",
    "    for species_idx, species in enumerate(species_subset):\n",
    "        # Lấy thư mục loài\n",
    "        species_dir = species_dir_mapping.get(species)\n",
    "        if not species_dir or not os.path.exists(species_dir):\n",
    "            continue\n",
    "        \n",
    "        # Lấy file bản ghi từng loài\n",
    "        audio_files = [f for f in os.listdir(species_dir) \n",
    "                     if f.endswith(('.mp3', '.ogg', '.wav'))]\n",
    "        \n",
    "        if cfg.DEBUG_MODE:\n",
    "            if len(audio_files) > cfg.SAMPLE_SIZE:\n",
    "                audio_files = np.random.choice(audio_files, cfg.SAMPLE_SIZE, replace=False).tolist()\n",
    "        \n",
    "        species_lengths = []\n",
    "        \n",
    "        # Xử lý file\n",
    "        for file_idx, filename in enumerate(tqdm(audio_files, desc=f\"Species {species_idx+1}/{len(species_subset)}\")):\n",
    "            file_path = os.path.join(species_dir, filename)\n",
    "            \n",
    "            # Load và phân tích file\n",
    "            audio = load_audio_file(file_path, sr=cfg.SR)\n",
    "            \n",
    "            if audio is not None:\n",
    "                # Tính toán thời lượng\n",
    "                audio_length = len(audio) / cfg.SR\n",
    "                results['audio_lengths'].append(audio_length)\n",
    "                species_lengths.append(audio_length)\n",
    "        \n",
    "        # Lưu trữ lại\n",
    "        if species_lengths:\n",
    "            results['species_lengths'][species] = species_lengths\n",
    "            \n",
    "    return results\n",
    "\n",
    "audio_length_results = analyze_audio_length(species_list, species_dir_mapping, cfg)\n",
    "\n",
    "if audio_length_results['audio_lengths']:\n",
    "    audio_lengths = np.array(audio_length_results['audio_lengths'])\n",
    "    \n",
    "    print(\"\\nAudio Length Statistics:\")\n",
    "    print(f\"- Number of files analyzed: {len(audio_lengths)}\")\n",
    "    print(f\"- Average length: {np.mean(audio_lengths):.2f} seconds\")\n",
    "    print(f\"- Min length: {np.min(audio_lengths):.2f} seconds\")\n",
    "    print(f\"- Max length: {np.max(audio_lengths):.2f} seconds\")\n",
    "    print(f\"- Median length: {np.median(audio_lengths):.2f} seconds\")\n",
    "    \n",
    "    # Plot biểu đồ phân bố thời lượng của bản ghi\n",
    "    plt.figure(figsize=(12, 6))\n",
    "    plt.hist(audio_lengths, bins=50, edgecolor='black')\n",
    "    plt.axvline(np.median(audio_lengths), color='red', linestyle='dashed', \n",
    "                linewidth=1, label=f'Median: {np.median(audio_lengths):.2f}s')\n",
    "    plt.axvline(np.mean(audio_lengths), color='green', linestyle='dashed', \n",
    "                linewidth=1, label=f'Mean: {np.mean(audio_lengths):.2f}s')\n",
    "    plt.title('Distribution of Audio File Lengths')\n",
    "    plt.xlabel('Length (seconds)')\n",
    "    plt.ylabel('Count')\n",
    "    plt.grid(True, alpha=0.3)\n",
    "    plt.legend()\n",
    "    plt.show()\n",
    "else:\n",
    "    print(\"No audio files were analyzed for length\")"
   ]
  },
  {
   "cell_type": "markdown",
   "metadata": {},
   "source": [
    "## Audio Length Distribution by Species"
   ]
  },
  {
   "cell_type": "code",
   "execution_count": null,
   "metadata": {
    "execution": {
     "iopub.execute_input": "2025-05-08T14:23:54.874175Z",
     "iopub.status.busy": "2025-05-08T14:23:54.873939Z",
     "iopub.status.idle": "2025-05-08T14:23:55.285043Z",
     "shell.execute_reply": "2025-05-08T14:23:55.284039Z",
     "shell.execute_reply.started": "2025-05-08T14:23:54.874148Z"
    },
    "trusted": true
   },
   "outputs": [
    {
     "name": "stdout",
     "output_type": "stream",
     "text": [
      "Species with longest average audio:\n"
     ]
    },
    {
     "data": {
      "text/html": [
       "<div>\n",
       "<style scoped>\n",
       "    .dataframe tbody tr th:only-of-type {\n",
       "        vertical-align: middle;\n",
       "    }\n",
       "\n",
       "    .dataframe tbody tr th {\n",
       "        vertical-align: top;\n",
       "    }\n",
       "\n",
       "    .dataframe thead th {\n",
       "        text-align: right;\n",
       "    }\n",
       "</style>\n",
       "<table border=\"1\" class=\"dataframe\">\n",
       "  <thead>\n",
       "    <tr style=\"text-align: right;\">\n",
       "      <th></th>\n",
       "      <th>species</th>\n",
       "      <th>avg_length</th>\n",
       "    </tr>\n",
       "  </thead>\n",
       "  <tbody>\n",
       "    <tr>\n",
       "      <th>27</th>\n",
       "      <td>476537</td>\n",
       "      <td>226.956000</td>\n",
       "    </tr>\n",
       "    <tr>\n",
       "      <th>10</th>\n",
       "      <td>21038</td>\n",
       "      <td>196.719000</td>\n",
       "    </tr>\n",
       "    <tr>\n",
       "      <th>39</th>\n",
       "      <td>64862</td>\n",
       "      <td>196.452000</td>\n",
       "    </tr>\n",
       "    <tr>\n",
       "      <th>34</th>\n",
       "      <td>52884</td>\n",
       "      <td>182.860768</td>\n",
       "    </tr>\n",
       "    <tr>\n",
       "      <th>17</th>\n",
       "      <td>24292</td>\n",
       "      <td>147.608000</td>\n",
       "    </tr>\n",
       "    <tr>\n",
       "      <th>30</th>\n",
       "      <td>50186</td>\n",
       "      <td>141.961078</td>\n",
       "    </tr>\n",
       "    <tr>\n",
       "      <th>29</th>\n",
       "      <td>48124</td>\n",
       "      <td>128.350042</td>\n",
       "    </tr>\n",
       "    <tr>\n",
       "      <th>6</th>\n",
       "      <td>135045</td>\n",
       "      <td>127.702656</td>\n",
       "    </tr>\n",
       "    <tr>\n",
       "      <th>33</th>\n",
       "      <td>528041</td>\n",
       "      <td>106.725516</td>\n",
       "    </tr>\n",
       "    <tr>\n",
       "      <th>1</th>\n",
       "      <td>1192948</td>\n",
       "      <td>105.437609</td>\n",
       "    </tr>\n",
       "  </tbody>\n",
       "</table>\n",
       "</div>"
      ],
      "text/plain": [
       "    species  avg_length\n",
       "27   476537  226.956000\n",
       "10    21038  196.719000\n",
       "39    64862  196.452000\n",
       "34    52884  182.860768\n",
       "17    24292  147.608000\n",
       "30    50186  141.961078\n",
       "29    48124  128.350042\n",
       "6    135045  127.702656\n",
       "33   528041  106.725516\n",
       "1   1192948  105.437609"
      ]
     },
     "metadata": {},
     "output_type": "display_data"
    },
    {
     "name": "stdout",
     "output_type": "stream",
     "text": [
      "Species with shortest average audio:\n"
     ]
    },
    {
     "data": {
      "text/html": [
       "<div>\n",
       "<style scoped>\n",
       "    .dataframe tbody tr th:only-of-type {\n",
       "        vertical-align: middle;\n",
       "    }\n",
       "\n",
       "    .dataframe tbody tr th {\n",
       "        vertical-align: top;\n",
       "    }\n",
       "\n",
       "    .dataframe thead th {\n",
       "        text-align: right;\n",
       "    }\n",
       "</style>\n",
       "<table border=\"1\" class=\"dataframe\">\n",
       "  <thead>\n",
       "    <tr style=\"text-align: right;\">\n",
       "      <th></th>\n",
       "      <th>species</th>\n",
       "      <th>avg_length</th>\n",
       "    </tr>\n",
       "  </thead>\n",
       "  <tbody>\n",
       "    <tr>\n",
       "      <th>42</th>\n",
       "      <td>65349</td>\n",
       "      <td>14.893062</td>\n",
       "    </tr>\n",
       "    <tr>\n",
       "      <th>174</th>\n",
       "      <td>strher</td>\n",
       "      <td>14.415108</td>\n",
       "    </tr>\n",
       "    <tr>\n",
       "      <th>48</th>\n",
       "      <td>66016</td>\n",
       "      <td>13.428000</td>\n",
       "    </tr>\n",
       "    <tr>\n",
       "      <th>24</th>\n",
       "      <td>42113</td>\n",
       "      <td>11.326203</td>\n",
       "    </tr>\n",
       "    <tr>\n",
       "      <th>23</th>\n",
       "      <td>42087</td>\n",
       "      <td>10.566047</td>\n",
       "    </tr>\n",
       "    <tr>\n",
       "      <th>11</th>\n",
       "      <td>21116</td>\n",
       "      <td>6.527750</td>\n",
       "    </tr>\n",
       "    <tr>\n",
       "      <th>32</th>\n",
       "      <td>523060</td>\n",
       "      <td>6.103398</td>\n",
       "    </tr>\n",
       "    <tr>\n",
       "      <th>58</th>\n",
       "      <td>868458</td>\n",
       "      <td>5.890055</td>\n",
       "    </tr>\n",
       "    <tr>\n",
       "      <th>35</th>\n",
       "      <td>548639</td>\n",
       "      <td>5.848350</td>\n",
       "    </tr>\n",
       "    <tr>\n",
       "      <th>9</th>\n",
       "      <td>1564122</td>\n",
       "      <td>1.888344</td>\n",
       "    </tr>\n",
       "  </tbody>\n",
       "</table>\n",
       "</div>"
      ],
      "text/plain": [
       "     species  avg_length\n",
       "42     65349   14.893062\n",
       "174   strher   14.415108\n",
       "48     66016   13.428000\n",
       "24     42113   11.326203\n",
       "23     42087   10.566047\n",
       "11     21116    6.527750\n",
       "32    523060    6.103398\n",
       "58    868458    5.890055\n",
       "35    548639    5.848350\n",
       "9    1564122    1.888344"
      ]
     },
     "metadata": {},
     "output_type": "display_data"
    },
    {
     "data": {
      "image/png": "[encoded data removed]",
      "text/plain": [
       "<Figure size 1400x1000 with 1 Axes>"
      ]
     },
     "metadata": {},
     "output_type": "display_data"
    }
   ],
   "source": [
    "# Thời lượng trung bình\n",
    "if audio_length_results['species_lengths']:\n",
    "    species_avg_lengths = {\n",
    "        species: np.mean(lengths)\n",
    "        for species, lengths in audio_length_results['species_lengths'].items()\n",
    "        if lengths\n",
    "    }\n",
    "    \n",
    "    # Chuyển sang datafrmae\n",
    "    species_length_df = pd.DataFrame({\n",
    "        'species': list(species_avg_lengths.keys()),\n",
    "        'avg_length': list(species_avg_lengths.values())\n",
    "    }).sort_values('avg_length', ascending=False)\n",
    "    \n",
    "    # Danh sách các loài có thời lượng bản ghi trung bình dài nhất và ngắn nhất\n",
    "    print(\"Species with longest average audio:\")\n",
    "    display(species_length_df.head(10))\n",
    "    \n",
    "    print(\"Species with shortest average audio:\")\n",
    "    display(species_length_df.tail(10))\n",
    "    \n",
    "    # Plot dữ liệu\n",
    "    plt.figure(figsize=(14, 10))\n",
    "    sns.barplot(x='avg_length', y='species', data=species_length_df.head(20))\n",
    "    plt.title('Average Audio Length by Species (Top 20)')\n",
    "    plt.xlabel('Average Length (seconds)')\n",
    "    plt.grid(True, alpha=0.3)\n",
    "    plt.tight_layout()\n",
    "    plt.show()"
   ]
  },
  {
   "cell_type": "markdown",
   "metadata": {},
   "source": [
    "## Audio Quality Analysis\n",
    "\n",
    "Khảo sát chất lượng các bản ghi"
   ]
  },
  {
   "cell_type": "code",
   "execution_count": null,
   "metadata": {
    "execution": {
     "iopub.execute_input": "2025-05-08T14:23:55.989062Z",
     "iopub.status.busy": "2025-05-08T14:23:55.988809Z"
    },
    "trusted": true
   },
   "outputs": [
    {
     "name": "stdout",
     "output_type": "stream",
     "text": [
      "\n",
      "Quality Rating Statistics:\n"
     ]
    },
    {
     "data": {
      "text/plain": [
       "count    28564.000000\n",
       "mean         2.917063\n",
       "std          1.964896\n",
       "min          0.000000\n",
       "25%          0.000000\n",
       "50%          4.000000\n",
       "75%          4.500000\n",
       "max          5.000000\n",
       "Name: rating, dtype: float64"
      ]
     },
     "metadata": {},
     "output_type": "display_data"
    },
    {
     "name": "stdout",
     "output_type": "stream",
     "text": [
      "\n",
      "Count of each rating value:\n"
     ]
    },
    {
     "data": {
      "text/plain": [
       "rating\n",
       "0.0    7948\n",
       "0.5      26\n",
       "1.0     228\n",
       "1.5      70\n",
       "2.0     752\n",
       "2.5     360\n",
       "3.0    2886\n",
       "3.5     895\n",
       "4.0    7582\n",
       "4.5    1261\n",
       "5.0    6556\n",
       "Name: count, dtype: int64"
      ]
     },
     "metadata": {},
     "output_type": "display_data"
    },
    {
     "data": {
      "image/png": "[encoded data removed]",
      "text/plain": [
       "<Figure size 1000x600 with 1 Axes>"
      ]
     },
     "metadata": {},
     "output_type": "display_data"
    },
    {
     "name": "stdout",
     "output_type": "stream",
     "text": [
      "\n",
      "Species with highest average quality rating:\n"
     ]
    },
    {
     "data": {
      "text/html": [
       "<div>\n",
       "<style scoped>\n",
       "    .dataframe tbody tr th:only-of-type {\n",
       "        vertical-align: middle;\n",
       "    }\n",
       "\n",
       "    .dataframe tbody tr th {\n",
       "        vertical-align: top;\n",
       "    }\n",
       "\n",
       "    .dataframe thead th {\n",
       "        text-align: right;\n",
       "    }\n",
       "</style>\n",
       "<table border=\"1\" class=\"dataframe\">\n",
       "  <thead>\n",
       "    <tr style=\"text-align: right;\">\n",
       "      <th></th>\n",
       "      <th>primary_label</th>\n",
       "      <th>mean</th>\n",
       "      <th>count</th>\n",
       "    </tr>\n",
       "  </thead>\n",
       "  <tbody>\n",
       "    <tr>\n",
       "      <th>159</th>\n",
       "      <td>shghum1</td>\n",
       "      <td>4.166667</td>\n",
       "      <td>15</td>\n",
       "    </tr>\n",
       "    <tr>\n",
       "      <th>197</th>\n",
       "      <td>yebsee1</td>\n",
       "      <td>4.089189</td>\n",
       "      <td>185</td>\n",
       "    </tr>\n",
       "    <tr>\n",
       "      <th>178</th>\n",
       "      <td>thlsch3</td>\n",
       "      <td>4.015464</td>\n",
       "      <td>97</td>\n",
       "    </tr>\n",
       "    <tr>\n",
       "      <th>101</th>\n",
       "      <td>crcwoo1</td>\n",
       "      <td>3.975694</td>\n",
       "      <td>144</td>\n",
       "    </tr>\n",
       "    <tr>\n",
       "      <th>171</th>\n",
       "      <td>stbwoo2</td>\n",
       "      <td>3.961905</td>\n",
       "      <td>210</td>\n",
       "    </tr>\n",
       "    <tr>\n",
       "      <th>147</th>\n",
       "      <td>rtlhum</td>\n",
       "      <td>3.932432</td>\n",
       "      <td>148</td>\n",
       "    </tr>\n",
       "    <tr>\n",
       "      <th>93</th>\n",
       "      <td>cocher1</td>\n",
       "      <td>3.925000</td>\n",
       "      <td>40</td>\n",
       "    </tr>\n",
       "    <tr>\n",
       "      <th>70</th>\n",
       "      <td>bkcdon</td>\n",
       "      <td>3.900568</td>\n",
       "      <td>176</td>\n",
       "    </tr>\n",
       "    <tr>\n",
       "      <th>136</th>\n",
       "      <td>plbwoo1</td>\n",
       "      <td>3.887097</td>\n",
       "      <td>186</td>\n",
       "    </tr>\n",
       "    <tr>\n",
       "      <th>87</th>\n",
       "      <td>butsal1</td>\n",
       "      <td>3.879195</td>\n",
       "      <td>298</td>\n",
       "    </tr>\n",
       "  </tbody>\n",
       "</table>\n",
       "</div>"
      ],
      "text/plain": [
       "    primary_label      mean  count\n",
       "159       shghum1  4.166667     15\n",
       "197       yebsee1  4.089189    185\n",
       "178       thlsch3  4.015464     97\n",
       "101       crcwoo1  3.975694    144\n",
       "171       stbwoo2  3.961905    210\n",
       "147        rtlhum  3.932432    148\n",
       "93        cocher1  3.925000     40\n",
       "70         bkcdon  3.900568    176\n",
       "136       plbwoo1  3.887097    186\n",
       "87        butsal1  3.879195    298"
      ]
     },
     "metadata": {},
     "output_type": "display_data"
    },
    {
     "name": "stdout",
     "output_type": "stream",
     "text": [
      "\n",
      "Species with lowest average quality rating:\n"
     ]
    },
    {
     "data": {
      "text/html": [
       "<div>\n",
       "<style scoped>\n",
       "    .dataframe tbody tr th:only-of-type {\n",
       "        vertical-align: middle;\n",
       "    }\n",
       "\n",
       "    .dataframe tbody tr th {\n",
       "        vertical-align: top;\n",
       "    }\n",
       "\n",
       "    .dataframe thead th {\n",
       "        text-align: right;\n",
       "    }\n",
       "</style>\n",
       "<table border=\"1\" class=\"dataframe\">\n",
       "  <thead>\n",
       "    <tr style=\"text-align: right;\">\n",
       "      <th></th>\n",
       "      <th>primary_label</th>\n",
       "      <th>mean</th>\n",
       "      <th>count</th>\n",
       "    </tr>\n",
       "  </thead>\n",
       "  <tbody>\n",
       "    <tr>\n",
       "      <th>22</th>\n",
       "      <td>42007</td>\n",
       "      <td>0.0</td>\n",
       "      <td>19</td>\n",
       "    </tr>\n",
       "    <tr>\n",
       "      <th>17</th>\n",
       "      <td>24292</td>\n",
       "      <td>0.0</td>\n",
       "      <td>3</td>\n",
       "    </tr>\n",
       "    <tr>\n",
       "      <th>55</th>\n",
       "      <td>715170</td>\n",
       "      <td>0.0</td>\n",
       "      <td>17</td>\n",
       "    </tr>\n",
       "    <tr>\n",
       "      <th>32</th>\n",
       "      <td>523060</td>\n",
       "      <td>0.0</td>\n",
       "      <td>4</td>\n",
       "    </tr>\n",
       "    <tr>\n",
       "      <th>56</th>\n",
       "      <td>787625</td>\n",
       "      <td>0.0</td>\n",
       "      <td>7</td>\n",
       "    </tr>\n",
       "    <tr>\n",
       "      <th>57</th>\n",
       "      <td>81930</td>\n",
       "      <td>0.0</td>\n",
       "      <td>2</td>\n",
       "    </tr>\n",
       "    <tr>\n",
       "      <th>58</th>\n",
       "      <td>868458</td>\n",
       "      <td>0.0</td>\n",
       "      <td>4</td>\n",
       "    </tr>\n",
       "    <tr>\n",
       "      <th>59</th>\n",
       "      <td>963335</td>\n",
       "      <td>0.0</td>\n",
       "      <td>5</td>\n",
       "    </tr>\n",
       "    <tr>\n",
       "      <th>27</th>\n",
       "      <td>476537</td>\n",
       "      <td>0.0</td>\n",
       "      <td>2</td>\n",
       "    </tr>\n",
       "    <tr>\n",
       "      <th>0</th>\n",
       "      <td>1139490</td>\n",
       "      <td>0.0</td>\n",
       "      <td>2</td>\n",
       "    </tr>\n",
       "  </tbody>\n",
       "</table>\n",
       "</div>"
      ],
      "text/plain": [
       "   primary_label  mean  count\n",
       "22         42007   0.0     19\n",
       "17         24292   0.0      3\n",
       "55        715170   0.0     17\n",
       "32        523060   0.0      4\n",
       "56        787625   0.0      7\n",
       "57         81930   0.0      2\n",
       "58        868458   0.0      4\n",
       "59        963335   0.0      5\n",
       "27        476537   0.0      2\n",
       "0        1139490   0.0      2"
      ]
     },
     "metadata": {},
     "output_type": "display_data"
    },
    {
     "name": "stdout",
     "output_type": "stream",
     "text": [
      "Analyzing computed quality for 206 species\n"
     ]
    },
    {
     "data": {
      "application/vnd.jupyter.widget-view+json": {
       "model_id": "22fa0de5df3b49a3af1a967d4f87aa78",
       "version_major": 2,
       "version_minor": 0
      },
      "text/plain": [
       "Computing quality for 1139490:   0%|          | 0/2 [00:00<?, ?it/s]"
      ]
     },
     "metadata": {},
     "output_type": "display_data"
    },
    {
     "data": {
      "application/vnd.jupyter.widget-view+json": {
       "model_id": "e4a8e0c422374ea99d95aedcaa008431",
       "version_major": 2,
       "version_minor": 0
      },
      "text/plain": [
       "Computing quality for 1192948:   0%|          | 0/4 [00:00<?, ?it/s]"
      ]
     },
     "metadata": {},
     "output_type": "display_data"
    },
    {
     "data": {
      "application/vnd.jupyter.widget-view+json": {
       "model_id": "e59623e5ffd545da83b6d1d387feebe4",
       "version_major": 2,
       "version_minor": 0
      },
      "text/plain": [
       "Computing quality for 1194042:   0%|          | 0/3 [00:00<?, ?it/s]"
      ]
     },
     "metadata": {},
     "output_type": "display_data"
    },
    {
     "data": {
      "application/vnd.jupyter.widget-view+json": {
       "model_id": "50084e5610e546fc97792d19fe0a2bf1",
       "version_major": 2,
       "version_minor": 0
      },
      "text/plain": [
       "Computing quality for 126247:   0%|          | 0/6 [00:00<?, ?it/s]"
      ]
     },
     "metadata": {},
     "output_type": "display_data"
    },
    {
     "data": {
      "application/vnd.jupyter.widget-view+json": {
       "model_id": "2c729c448b0d4602838efea64cbca316",
       "version_major": 2,
       "version_minor": 0
      },
      "text/plain": [
       "Computing quality for 1346504:   0%|          | 0/5 [00:00<?, ?it/s]"
      ]
     },
     "metadata": {},
     "output_type": "display_data"
    },
    {
     "data": {
      "application/vnd.jupyter.widget-view+json": {
       "model_id": "1fa58a46e50e46cab09f672aeefef1e7",
       "version_major": 2,
       "version_minor": 0
      },
      "text/plain": [
       "Computing quality for 134933:   0%|          | 0/4 [00:00<?, ?it/s]"
      ]
     },
     "metadata": {},
     "output_type": "display_data"
    },
    {
     "data": {
      "application/vnd.jupyter.widget-view+json": {
       "model_id": "b22b01f8a0ca463dabc6e34da3f34f74",
       "version_major": 2,
       "version_minor": 0
      },
      "text/plain": [
       "Computing quality for 135045:   0%|          | 0/10 [00:00<?, ?it/s]"
      ]
     },
     "metadata": {},
     "output_type": "display_data"
    },
    {
     "data": {
      "application/vnd.jupyter.widget-view+json": {
       "model_id": "f4e5f6b50ce34fbab4ed9d16b79d07ed",
       "version_major": 2,
       "version_minor": 0
      },
      "text/plain": [
       "Computing quality for 1462711:   0%|          | 0/3 [00:00<?, ?it/s]"
      ]
     },
     "metadata": {},
     "output_type": "display_data"
    },
    {
     "data": {
      "application/vnd.jupyter.widget-view+json": {
       "model_id": "127f6aa752704ffe9ccead4cde9808dd",
       "version_major": 2,
       "version_minor": 0
      },
      "text/plain": [
       "Computing quality for 1462737:   0%|          | 0/7 [00:00<?, ?it/s]"
      ]
     },
     "metadata": {},
     "output_type": "display_data"
    },
    {
     "data": {
      "application/vnd.jupyter.widget-view+json": {
       "model_id": "3b319f1849b3494f98dfa88627ef0606",
       "version_major": 2,
       "version_minor": 0
      },
      "text/plain": [
       "Computing quality for 1564122:   0%|          | 0/6 [00:00<?, ?it/s]"
      ]
     },
     "metadata": {},
     "output_type": "display_data"
    },
    {
     "data": {
      "application/vnd.jupyter.widget-view+json": {
       "model_id": "d1651b93811a435da8ae69c8999295f4",
       "version_major": 2,
       "version_minor": 0
      },
      "text/plain": [
       "Computing quality for 21038:   0%|          | 0/2 [00:00<?, ?it/s]"
      ]
     },
     "metadata": {},
     "output_type": "display_data"
    },
    {
     "data": {
      "application/vnd.jupyter.widget-view+json": {
       "model_id": "1cbe70e420cb45d6bbecd0e4ea57b6ad",
       "version_major": 2,
       "version_minor": 0
      },
      "text/plain": [
       "Computing quality for 21116:   0%|          | 0/2 [00:00<?, ?it/s]"
      ]
     },
     "metadata": {},
     "output_type": "display_data"
    },
    {
     "data": {
      "application/vnd.jupyter.widget-view+json": {
       "model_id": "30601fad6c0342f9a4155cdd4fa8a7a6",
       "version_major": 2,
       "version_minor": 0
      },
      "text/plain": [
       "Computing quality for 21211:   0%|          | 0/76 [00:00<?, ?it/s]"
      ]
     },
     "metadata": {},
     "output_type": "display_data"
    },
    {
     "data": {
      "application/vnd.jupyter.widget-view+json": {
       "model_id": "b96a7c2c754c41c3bc8c8925d58c027c",
       "version_major": 2,
       "version_minor": 0
      },
      "text/plain": [
       "Computing quality for 22333:   0%|          | 0/47 [00:00<?, ?it/s]"
      ]
     },
     "metadata": {},
     "output_type": "display_data"
    },
    {
     "data": {
      "application/vnd.jupyter.widget-view+json": {
       "model_id": "63ba682eac354cf7a882d0a8a8392f25",
       "version_major": 2,
       "version_minor": 0
      },
      "text/plain": [
       "Computing quality for 22973:   0%|          | 0/53 [00:00<?, ?it/s]"
      ]
     },
     "metadata": {},
     "output_type": "display_data"
    },
    {
     "data": {
      "application/vnd.jupyter.widget-view+json": {
       "model_id": "e199ca665f664d1da1e2ddc748fe9b06",
       "version_major": 2,
       "version_minor": 0
      },
      "text/plain": [
       "Computing quality for 22976:   0%|          | 0/44 [00:00<?, ?it/s]"
      ]
     },
     "metadata": {},
     "output_type": "display_data"
    },
    {
     "data": {
      "application/vnd.jupyter.widget-view+json": {
       "model_id": "e36b0c885c0f4a108bc1c3ea54e261e2",
       "version_major": 2,
       "version_minor": 0
      },
      "text/plain": [
       "Computing quality for 24272:   0%|          | 0/6 [00:00<?, ?it/s]"
      ]
     },
     "metadata": {},
     "output_type": "display_data"
    },
    {
     "data": {
      "application/vnd.jupyter.widget-view+json": {
       "model_id": "8440ff51d19e4a3e8df8b0518182aa03",
       "version_major": 2,
       "version_minor": 0
      },
      "text/plain": [
       "Computing quality for 24292:   0%|          | 0/3 [00:00<?, ?it/s]"
      ]
     },
     "metadata": {},
     "output_type": "display_data"
    },
    {
     "data": {
      "application/vnd.jupyter.widget-view+json": {
       "model_id": "466486e0a3a4483aa87019f5326c3be6",
       "version_major": 2,
       "version_minor": 0
      },
      "text/plain": [
       "Computing quality for 24322:   0%|          | 0/13 [00:00<?, ?it/s]"
      ]
     },
     "metadata": {},
     "output_type": "display_data"
    },
    {
     "data": {
      "application/vnd.jupyter.widget-view+json": {
       "model_id": "c0a0087f22a148e89c0affdb349e5fb5",
       "version_major": 2,
       "version_minor": 0
      },
      "text/plain": [
       "Computing quality for 41663:   0%|          | 0/108 [00:00<?, ?it/s]"
      ]
     },
     "metadata": {},
     "output_type": "display_data"
    },
    {
     "data": {
      "application/vnd.jupyter.widget-view+json": {
       "model_id": "d61667cf4b6f4c5885e90c09f677bbd0",
       "version_major": 2,
       "version_minor": 0
      },
      "text/plain": [
       "Computing quality for 41778:   0%|          | 0/2 [00:00<?, ?it/s]"
      ]
     },
     "metadata": {},
     "output_type": "display_data"
    },
    {
     "data": {
      "application/vnd.jupyter.widget-view+json": {
       "model_id": "b5e8ddc54eee4cd699dcc0a89aa744f9",
       "version_major": 2,
       "version_minor": 0
      },
      "text/plain": [
       "Computing quality for 41970:   0%|          | 0/15 [00:00<?, ?it/s]"
      ]
     },
     "metadata": {},
     "output_type": "display_data"
    },
    {
     "data": {
      "application/vnd.jupyter.widget-view+json": {
       "model_id": "b9208d4f398a473bb4b46e88f503d8a6",
       "version_major": 2,
       "version_minor": 0
      },
      "text/plain": [
       "Computing quality for 42007:   0%|          | 0/19 [00:00<?, ?it/s]"
      ]
     },
     "metadata": {},
     "output_type": "display_data"
    },
    {
     "data": {
      "application/vnd.jupyter.widget-view+json": {
       "model_id": "837567edd40f4f92890c9ad284eb50d3",
       "version_major": 2,
       "version_minor": 0
      },
      "text/plain": [
       "Computing quality for 42087:   0%|          | 0/2 [00:00<?, ?it/s]"
      ]
     },
     "metadata": {},
     "output_type": "display_data"
    },
    {
     "data": {
      "application/vnd.jupyter.widget-view+json": {
       "model_id": "d78473683f1e4b6b9aafeacf4dd2569e",
       "version_major": 2,
       "version_minor": 0
      },
      "text/plain": [
       "Computing quality for 42113:   0%|          | 0/2 [00:00<?, ?it/s]"
      ]
     },
     "metadata": {},
     "output_type": "display_data"
    },
    {
     "data": {
      "application/vnd.jupyter.widget-view+json": {
       "model_id": "6a0d4b40950743cdbd119895fdb10c67",
       "version_major": 2,
       "version_minor": 0
      },
      "text/plain": [
       "Computing quality for 46010:   0%|          | 0/5 [00:00<?, ?it/s]"
      ]
     },
     "metadata": {},
     "output_type": "display_data"
    },
    {
     "data": {
      "application/vnd.jupyter.widget-view+json": {
       "model_id": "3808ccc10d404d37baf59ac8263365f6",
       "version_major": 2,
       "version_minor": 0
      },
      "text/plain": [
       "Computing quality for 47067:   0%|          | 0/2 [00:00<?, ?it/s]"
      ]
     },
     "metadata": {},
     "output_type": "display_data"
    },
    {
     "data": {
      "application/vnd.jupyter.widget-view+json": {
       "model_id": "a3da52c7a4d54a48a874841f59261028",
       "version_major": 2,
       "version_minor": 0
      },
      "text/plain": [
       "Computing quality for 476537:   0%|          | 0/2 [00:00<?, ?it/s]"
      ]
     },
     "metadata": {},
     "output_type": "display_data"
    },
    {
     "data": {
      "application/vnd.jupyter.widget-view+json": {
       "model_id": "f28ffa9c5fbe4923aa0f63b4baea3ab1",
       "version_major": 2,
       "version_minor": 0
      },
      "text/plain": [
       "Computing quality for 476538:   0%|          | 0/5 [00:00<?, ?it/s]"
      ]
     },
     "metadata": {},
     "output_type": "display_data"
    },
    {
     "data": {
      "application/vnd.jupyter.widget-view+json": {
       "model_id": "9d147048498149349aa8c7d0d8a4f37c",
       "version_major": 2,
       "version_minor": 0
      },
      "text/plain": [
       "Computing quality for 48124:   0%|          | 0/20 [00:00<?, ?it/s]"
      ]
     },
     "metadata": {},
     "output_type": "display_data"
    },
    {
     "data": {
      "application/vnd.jupyter.widget-view+json": {
       "model_id": "b357c05ed9414c64840eff7593e86d00",
       "version_major": 2,
       "version_minor": 0
      },
      "text/plain": [
       "Computing quality for 50186:   0%|          | 0/30 [00:00<?, ?it/s]"
      ]
     },
     "metadata": {},
     "output_type": "display_data"
    },
    {
     "data": {
      "application/vnd.jupyter.widget-view+json": {
       "model_id": "b2ba07bbe4ab4f6db0b505c45bf548d9",
       "version_major": 2,
       "version_minor": 0
      },
      "text/plain": [
       "Computing quality for 517119:   0%|          | 0/58 [00:00<?, ?it/s]"
      ]
     },
     "metadata": {},
     "output_type": "display_data"
    },
    {
     "data": {
      "application/vnd.jupyter.widget-view+json": {
       "model_id": "32bef50d805f4e59a73394c54ff3efa7",
       "version_major": 2,
       "version_minor": 0
      },
      "text/plain": [
       "Computing quality for 523060:   0%|          | 0/4 [00:00<?, ?it/s]"
      ]
     },
     "metadata": {},
     "output_type": "display_data"
    },
    {
     "data": {
      "application/vnd.jupyter.widget-view+json": {
       "model_id": "03da263d59e242d59588b3ef9eb75480",
       "version_major": 2,
       "version_minor": 0
      },
      "text/plain": [
       "Computing quality for 528041:   0%|          | 0/2 [00:00<?, ?it/s]"
      ]
     },
     "metadata": {},
     "output_type": "display_data"
    },
    {
     "data": {
      "application/vnd.jupyter.widget-view+json": {
       "model_id": "a60dee4aef3640edbfdebc1a75305cb6",
       "version_major": 2,
       "version_minor": 0
      },
      "text/plain": [
       "Computing quality for 52884:   0%|          | 0/33 [00:00<?, ?it/s]"
      ]
     },
     "metadata": {},
     "output_type": "display_data"
    },
    {
     "data": {
      "application/vnd.jupyter.widget-view+json": {
       "model_id": "4f75c073a3b64ef781e3fd831ed891f5",
       "version_major": 2,
       "version_minor": 0
      },
      "text/plain": [
       "Computing quality for 548639:   0%|          | 0/5 [00:00<?, ?it/s]"
      ]
     },
     "metadata": {},
     "output_type": "display_data"
    },
    {
     "data": {
      "application/vnd.jupyter.widget-view+json": {
       "model_id": "a0f8907f9a8447c0986d85ac1cfb00e7",
       "version_major": 2,
       "version_minor": 0
      },
      "text/plain": [
       "Computing quality for 555086:   0%|          | 0/25 [00:00<?, ?it/s]"
      ]
     },
     "metadata": {},
     "output_type": "display_data"
    },
    {
     "data": {
      "application/vnd.jupyter.widget-view+json": {
       "model_id": "ee2007e2bdab43b79ed3637fdbfc0a2d",
       "version_major": 2,
       "version_minor": 0
      },
      "text/plain": [
       "Computing quality for 555142:   0%|          | 0/6 [00:00<?, ?it/s]"
      ]
     },
     "metadata": {},
     "output_type": "display_data"
    },
    {
     "data": {
      "application/vnd.jupyter.widget-view+json": {
       "model_id": "33f7a9ad0bda4af799b136aa36906d89",
       "version_major": 2,
       "version_minor": 0
      },
      "text/plain": [
       "Computing quality for 566513:   0%|          | 0/23 [00:00<?, ?it/s]"
      ]
     },
     "metadata": {},
     "output_type": "display_data"
    },
    {
     "data": {
      "application/vnd.jupyter.widget-view+json": {
       "model_id": "319a325ae611409a93fb7efcce8c441a",
       "version_major": 2,
       "version_minor": 0
      },
      "text/plain": [
       "Computing quality for 64862:   0%|          | 0/2 [00:00<?, ?it/s]"
      ]
     },
     "metadata": {},
     "output_type": "display_data"
    },
    {
     "data": {
      "application/vnd.jupyter.widget-view+json": {
       "model_id": "f298292e053340969901f4647b24019e",
       "version_major": 2,
       "version_minor": 0
      },
      "text/plain": [
       "Computing quality for 65336:   0%|          | 0/6 [00:00<?, ?it/s]"
      ]
     },
     "metadata": {},
     "output_type": "display_data"
    },
    {
     "data": {
      "application/vnd.jupyter.widget-view+json": {
       "model_id": "6e9679332a844026ab264c8f01ad630c",
       "version_major": 2,
       "version_minor": 0
      },
      "text/plain": [
       "Computing quality for 65344:   0%|          | 0/16 [00:00<?, ?it/s]"
      ]
     },
     "metadata": {},
     "output_type": "display_data"
    },
    {
     "data": {
      "application/vnd.jupyter.widget-view+json": {
       "model_id": "974be19b950c453fb72aa025b3d8727c",
       "version_major": 2,
       "version_minor": 0
      },
      "text/plain": [
       "Computing quality for 65349:   0%|          | 0/16 [00:00<?, ?it/s]"
      ]
     },
     "metadata": {},
     "output_type": "display_data"
    },
    {
     "data": {
      "application/vnd.jupyter.widget-view+json": {
       "model_id": "62333ca6bae64cde8803122c849090ae",
       "version_major": 2,
       "version_minor": 0
      },
      "text/plain": [
       "Computing quality for 65373:   0%|          | 0/32 [00:00<?, ?it/s]"
      ]
     },
     "metadata": {},
     "output_type": "display_data"
    },
    {
     "data": {
      "application/vnd.jupyter.widget-view+json": {
       "model_id": "d3eb198e1d674c8fb7550a94aee250cb",
       "version_major": 2,
       "version_minor": 0
      },
      "text/plain": [
       "Computing quality for 65419:   0%|          | 0/3 [00:00<?, ?it/s]"
      ]
     },
     "metadata": {},
     "output_type": "display_data"
    },
    {
     "data": {
      "application/vnd.jupyter.widget-view+json": {
       "model_id": "e8525b4a4e8f4a5996f166ae72f1f2d0",
       "version_major": 2,
       "version_minor": 0
      },
      "text/plain": [
       "Computing quality for 65448:   0%|          | 0/82 [00:00<?, ?it/s]"
      ]
     },
     "metadata": {},
     "output_type": "display_data"
    },
    {
     "data": {
      "application/vnd.jupyter.widget-view+json": {
       "model_id": "39d6af6ed83a46fb8eb7f5ec9a2d6778",
       "version_major": 2,
       "version_minor": 0
      },
      "text/plain": [
       "Computing quality for 65547:   0%|          | 0/7 [00:00<?, ?it/s]"
      ]
     },
     "metadata": {},
     "output_type": "display_data"
    },
    {
     "data": {
      "application/vnd.jupyter.widget-view+json": {
       "model_id": "cf6c9b8d938644e68faa8c1e9b37166d",
       "version_major": 2,
       "version_minor": 0
      },
      "text/plain": [
       "Computing quality for 65962:   0%|          | 0/21 [00:00<?, ?it/s]"
      ]
     },
     "metadata": {},
     "output_type": "display_data"
    },
    {
     "data": {
      "application/vnd.jupyter.widget-view+json": {
       "model_id": "85081398292b475a80a8ad3064571a18",
       "version_major": 2,
       "version_minor": 0
      },
      "text/plain": [
       "Computing quality for 66016:   0%|          | 0/2 [00:00<?, ?it/s]"
      ]
     },
     "metadata": {},
     "output_type": "display_data"
    },
    {
     "data": {
      "application/vnd.jupyter.widget-view+json": {
       "model_id": "8898dad396e54248801fdeb5472a6632",
       "version_major": 2,
       "version_minor": 0
      },
      "text/plain": [
       "Computing quality for 66531:   0%|          | 0/2 [00:00<?, ?it/s]"
      ]
     },
     "metadata": {},
     "output_type": "display_data"
    },
    {
     "data": {
      "application/vnd.jupyter.widget-view+json": {
       "model_id": "8e444304a3614485ad26ad13077b9ce7",
       "version_major": 2,
       "version_minor": 0
      },
      "text/plain": [
       "Computing quality for 66578:   0%|          | 0/2 [00:00<?, ?it/s]"
      ]
     },
     "metadata": {},
     "output_type": "display_data"
    },
    {
     "data": {
      "application/vnd.jupyter.widget-view+json": {
       "model_id": "cb1936165daf42ff9a06e3100da2507b",
       "version_major": 2,
       "version_minor": 0
      },
      "text/plain": [
       "Computing quality for 66893:   0%|          | 0/5 [00:00<?, ?it/s]"
      ]
     },
     "metadata": {},
     "output_type": "display_data"
    },
    {
     "data": {
      "application/vnd.jupyter.widget-view+json": {
       "model_id": "a0beacfd3c1f4a73979945d30b552ff3",
       "version_major": 2,
       "version_minor": 0
      },
      "text/plain": [
       "Computing quality for 67082:   0%|          | 0/2 [00:00<?, ?it/s]"
      ]
     },
     "metadata": {},
     "output_type": "display_data"
    },
    {
     "data": {
      "application/vnd.jupyter.widget-view+json": {
       "model_id": "3ec343d696c04572ac5d4ea96394acde",
       "version_major": 2,
       "version_minor": 0
      },
      "text/plain": [
       "Computing quality for 67252:   0%|          | 0/14 [00:00<?, ?it/s]"
      ]
     },
     "metadata": {},
     "output_type": "display_data"
    },
    {
     "data": {
      "application/vnd.jupyter.widget-view+json": {
       "model_id": "93bda76f4cb44701a00329d4db7e4872",
       "version_major": 2,
       "version_minor": 0
      },
      "text/plain": [
       "Computing quality for 714022:   0%|          | 0/5 [00:00<?, ?it/s]"
      ]
     },
     "metadata": {},
     "output_type": "display_data"
    },
    {
     "data": {
      "application/vnd.jupyter.widget-view+json": {
       "model_id": "8c6afdf8572e4906a0b3c8c6fee9aa88",
       "version_major": 2,
       "version_minor": 0
      },
      "text/plain": [
       "Computing quality for 715170:   0%|          | 0/17 [00:00<?, ?it/s]"
      ]
     },
     "metadata": {},
     "output_type": "display_data"
    },
    {
     "data": {
      "application/vnd.jupyter.widget-view+json": {
       "model_id": "95fabe3e67e74e41ab88417ab3e22147",
       "version_major": 2,
       "version_minor": 0
      },
      "text/plain": [
       "Computing quality for 787625:   0%|          | 0/7 [00:00<?, ?it/s]"
      ]
     },
     "metadata": {},
     "output_type": "display_data"
    },
    {
     "data": {
      "application/vnd.jupyter.widget-view+json": {
       "model_id": "23458659788a413397b6041aef197f34",
       "version_major": 2,
       "version_minor": 0
      },
      "text/plain": [
       "Computing quality for 81930:   0%|          | 0/2 [00:00<?, ?it/s]"
      ]
     },
     "metadata": {},
     "output_type": "display_data"
    },
    {
     "data": {
      "application/vnd.jupyter.widget-view+json": {
       "model_id": "6be2e2890b6e4e0a8f4c35bd04c3bff2",
       "version_major": 2,
       "version_minor": 0
      },
      "text/plain": [
       "Computing quality for 868458:   0%|          | 0/4 [00:00<?, ?it/s]"
      ]
     },
     "metadata": {},
     "output_type": "display_data"
    },
    {
     "data": {
      "application/vnd.jupyter.widget-view+json": {
       "model_id": "bcc852b006d1409aaead65a9be77749d",
       "version_major": 2,
       "version_minor": 0
      },
      "text/plain": [
       "Computing quality for 963335:   0%|          | 0/5 [00:00<?, ?it/s]"
      ]
     },
     "metadata": {},
     "output_type": "display_data"
    },
    {
     "data": {
      "application/vnd.jupyter.widget-view+json": {
       "model_id": "5a42d1ec5ca242808e0a854a0a3d9334",
       "version_major": 2,
       "version_minor": 0
      },
      "text/plain": [
       "Computing quality for amakin1:   0%|          | 0/89 [00:00<?, ?it/s]"
      ]
     },
     "metadata": {},
     "output_type": "display_data"
    },
    {
     "data": {
      "application/vnd.jupyter.widget-view+json": {
       "model_id": "bdd7c94c6fef4d90b87536b96a9e1b0d",
       "version_major": 2,
       "version_minor": 0
      },
      "text/plain": [
       "Computing quality for amekes:   0%|          | 0/409 [00:00<?, ?it/s]"
      ]
     },
     "metadata": {},
     "output_type": "display_data"
    },
    {
     "data": {
      "application/vnd.jupyter.widget-view+json": {
       "model_id": "bf3dcdb1e2894856838a2ecf54ed44f0",
       "version_major": 2,
       "version_minor": 0
      },
      "text/plain": [
       "Computing quality for ampkin1:   0%|          | 0/28 [00:00<?, ?it/s]"
      ]
     },
     "metadata": {},
     "output_type": "display_data"
    },
    {
     "data": {
      "application/vnd.jupyter.widget-view+json": {
       "model_id": "8a697bdd290f4b2faee2fcf6d03eba2d",
       "version_major": 2,
       "version_minor": 0
      },
      "text/plain": [
       "Computing quality for anhing:   0%|          | 0/91 [00:00<?, ?it/s]"
      ]
     },
     "metadata": {},
     "output_type": "display_data"
    },
    {
     "data": {
      "application/vnd.jupyter.widget-view+json": {
       "model_id": "71d70e5e993a4c84b68705f0b79b77c3",
       "version_major": 2,
       "version_minor": 0
      },
      "text/plain": [
       "Computing quality for babwar:   0%|          | 0/167 [00:00<?, ?it/s]"
      ]
     },
     "metadata": {},
     "output_type": "display_data"
    },
    {
     "data": {
      "application/vnd.jupyter.widget-view+json": {
       "model_id": "80398e2254fa46acb354b5ac77a0481b",
       "version_major": 2,
       "version_minor": 0
      },
      "text/plain": [
       "Computing quality for bafibi1:   0%|          | 0/27 [00:00<?, ?it/s]"
      ]
     },
     "metadata": {},
     "output_type": "display_data"
    },
    {
     "data": {
      "application/vnd.jupyter.widget-view+json": {
       "model_id": "20cf5c4b80924304bcd975ad69ca6e90",
       "version_major": 2,
       "version_minor": 0
      },
      "text/plain": [
       "Computing quality for banana:   0%|          | 0/610 [00:00<?, ?it/s]"
      ]
     },
     "metadata": {},
     "output_type": "display_data"
    },
    {
     "data": {
      "application/vnd.jupyter.widget-view+json": {
       "model_id": "7ef8f5d4230347d9a19c1b4b9f6e0f58",
       "version_major": 2,
       "version_minor": 0
      },
      "text/plain": [
       "Computing quality for baymac:   0%|          | 0/149 [00:00<?, ?it/s]"
      ]
     },
     "metadata": {},
     "output_type": "display_data"
    },
    {
     "data": {
      "application/vnd.jupyter.widget-view+json": {
       "model_id": "6d0a798ed275499bbcf33bfd8d6a1b20",
       "version_major": 2,
       "version_minor": 0
      },
      "text/plain": [
       "Computing quality for bbwduc:   0%|          | 0/424 [00:00<?, ?it/s]"
      ]
     },
     "metadata": {},
     "output_type": "display_data"
    },
    {
     "data": {
      "application/vnd.jupyter.widget-view+json": {
       "model_id": "4c0c1f31792945ce9516242dcbe8e09f",
       "version_major": 2,
       "version_minor": 0
      },
      "text/plain": [
       "Computing quality for bicwre1:   0%|          | 0/93 [00:00<?, ?it/s]"
      ]
     },
     "metadata": {},
     "output_type": "display_data"
    },
    {
     "data": {
      "application/vnd.jupyter.widget-view+json": {
       "model_id": "23179f58e01a4d04bc668090ef583eb3",
       "version_major": 2,
       "version_minor": 0
      },
      "text/plain": [
       "Computing quality for bkcdon:   0%|          | 0/176 [00:00<?, ?it/s]"
      ]
     },
     "metadata": {},
     "output_type": "display_data"
    },
    {
     "data": {
      "application/vnd.jupyter.widget-view+json": {
       "model_id": "aa8ab30937184e05874c569b9db180f0",
       "version_major": 2,
       "version_minor": 0
      },
      "text/plain": [
       "Computing quality for bkmtou1:   0%|          | 0/311 [00:00<?, ?it/s]"
      ]
     },
     "metadata": {},
     "output_type": "display_data"
    },
    {
     "data": {
      "application/vnd.jupyter.widget-view+json": {
       "model_id": "24564c6b8d004411beacde4567e76300",
       "version_major": 2,
       "version_minor": 0
      },
      "text/plain": [
       "Computing quality for blbgra1:   0%|          | 0/380 [00:00<?, ?it/s]"
      ]
     },
     "metadata": {},
     "output_type": "display_data"
    },
    {
     "data": {
      "application/vnd.jupyter.widget-view+json": {
       "model_id": "79f3c12123564ca29ebd9c98f6de1293",
       "version_major": 2,
       "version_minor": 0
      },
      "text/plain": [
       "Computing quality for blbwre1:   0%|          | 0/110 [00:00<?, ?it/s]"
      ]
     },
     "metadata": {},
     "output_type": "display_data"
    },
    {
     "data": {
      "application/vnd.jupyter.widget-view+json": {
       "model_id": "6c86ce0d23774de486bfb8100d81a058",
       "version_major": 2,
       "version_minor": 0
      },
      "text/plain": [
       "Computing quality for blcant4:   0%|          | 0/105 [00:00<?, ?it/s]"
      ]
     },
     "metadata": {},
     "output_type": "display_data"
    },
    {
     "data": {
      "application/vnd.jupyter.widget-view+json": {
       "model_id": "6ae3a16aca184477bf55515ebfc93666",
       "version_major": 2,
       "version_minor": 0
      },
      "text/plain": [
       "Computing quality for blchaw1:   0%|          | 0/54 [00:00<?, ?it/s]"
      ]
     },
     "metadata": {},
     "output_type": "display_data"
    },
    {
     "data": {
      "application/vnd.jupyter.widget-view+json": {
       "model_id": "80f89a4b54124359970586a9daa3c603",
       "version_major": 2,
       "version_minor": 0
      },
      "text/plain": [
       "Computing quality for blcjay1:   0%|          | 0/108 [00:00<?, ?it/s]"
      ]
     },
     "metadata": {},
     "output_type": "display_data"
    },
    {
     "data": {
      "application/vnd.jupyter.widget-view+json": {
       "model_id": "001472b9350b42aa8de3103acdc0d196",
       "version_major": 2,
       "version_minor": 0
      },
      "text/plain": [
       "Computing quality for blctit1:   0%|          | 0/32 [00:00<?, ?it/s]"
      ]
     },
     "metadata": {},
     "output_type": "display_data"
    },
    {
     "data": {
      "application/vnd.jupyter.widget-view+json": {
       "model_id": "e9ff55bbe1ac4ffba3c8469093249893",
       "version_major": 2,
       "version_minor": 0
      },
      "text/plain": [
       "Computing quality for blhpar1:   0%|          | 0/230 [00:00<?, ?it/s]"
      ]
     },
     "metadata": {},
     "output_type": "display_data"
    },
    {
     "data": {
      "application/vnd.jupyter.widget-view+json": {
       "model_id": "03fe1b2a4b7e426fa4f1e345cc79cd5f",
       "version_major": 2,
       "version_minor": 0
      },
      "text/plain": [
       "Computing quality for blkvul:   0%|          | 0/70 [00:00<?, ?it/s]"
      ]
     },
     "metadata": {},
     "output_type": "display_data"
    },
    {
     "data": {
      "application/vnd.jupyter.widget-view+json": {
       "model_id": "eb7b37a3f02646529410bbcda8121328",
       "version_major": 2,
       "version_minor": 0
      },
      "text/plain": [
       "Computing quality for bobfly1:   0%|          | 0/514 [00:00<?, ?it/s]"
      ]
     },
     "metadata": {},
     "output_type": "display_data"
    },
    {
     "data": {
      "application/vnd.jupyter.widget-view+json": {
       "model_id": "557ef746d3964dc580ee814413c4ca22",
       "version_major": 2,
       "version_minor": 0
      },
      "text/plain": [
       "Computing quality for bobher1:   0%|          | 0/39 [00:00<?, ?it/s]"
      ]
     },
     "metadata": {},
     "output_type": "display_data"
    },
    {
     "data": {
      "application/vnd.jupyter.widget-view+json": {
       "model_id": "1282d9799bb747e29aec124ff8a5fa40",
       "version_major": 2,
       "version_minor": 0
      },
      "text/plain": [
       "Computing quality for brtpar1:   0%|          | 0/74 [00:00<?, ?it/s]"
      ]
     },
     "metadata": {},
     "output_type": "display_data"
    },
    {
     "data": {
      "application/vnd.jupyter.widget-view+json": {
       "model_id": "3e294a38898d4d2896a1fde8824fa5ff",
       "version_major": 2,
       "version_minor": 0
      },
      "text/plain": [
       "Computing quality for bubcur1:   0%|          | 0/20 [00:00<?, ?it/s]"
      ]
     },
     "metadata": {},
     "output_type": "display_data"
    },
    {
     "data": {
      "application/vnd.jupyter.widget-view+json": {
       "model_id": "99a186324869490bbf73ea6a29c5f533",
       "version_major": 2,
       "version_minor": 0
      },
      "text/plain": [
       "Computing quality for bubwre1:   0%|          | 0/379 [00:00<?, ?it/s]"
      ]
     },
     "metadata": {},
     "output_type": "display_data"
    },
    {
     "data": {
      "application/vnd.jupyter.widget-view+json": {
       "model_id": "7ec0bcbe11e54838823a6c5ca4ccea15",
       "version_major": 2,
       "version_minor": 0
      },
      "text/plain": [
       "Computing quality for bucmot3:   0%|          | 0/47 [00:00<?, ?it/s]"
      ]
     },
     "metadata": {},
     "output_type": "display_data"
    },
    {
     "data": {
      "application/vnd.jupyter.widget-view+json": {
       "model_id": "5cf749c688384a86a620aa676d19fd00",
       "version_major": 2,
       "version_minor": 0
      },
      "text/plain": [
       "Computing quality for bugtan:   0%|          | 0/280 [00:00<?, ?it/s]"
      ]
     },
     "metadata": {},
     "output_type": "display_data"
    },
    {
     "data": {
      "application/vnd.jupyter.widget-view+json": {
       "model_id": "5de6e9d64fee4b7bbe112ca7a3460e0c",
       "version_major": 2,
       "version_minor": 0
      },
      "text/plain": [
       "Computing quality for butsal1:   0%|          | 0/298 [00:00<?, ?it/s]"
      ]
     },
     "metadata": {},
     "output_type": "display_data"
    },
    {
     "data": {
      "application/vnd.jupyter.widget-view+json": {
       "model_id": "df9f4f49b7394960ba8b5c6c5be924f2",
       "version_major": 2,
       "version_minor": 0
      },
      "text/plain": [
       "Computing quality for cargra1:   0%|          | 0/94 [00:00<?, ?it/s]"
      ]
     },
     "metadata": {},
     "output_type": "display_data"
    },
    {
     "data": {
      "application/vnd.jupyter.widget-view+json": {
       "model_id": "7f77264675884834a182c715288f2538",
       "version_major": 2,
       "version_minor": 0
      },
      "text/plain": [
       "Computing quality for cattyr:   0%|          | 0/114 [00:00<?, ?it/s]"
      ]
     },
     "metadata": {},
     "output_type": "display_data"
    },
    {
     "data": {
      "application/vnd.jupyter.widget-view+json": {
       "model_id": "0d72e8a92756414d9f08429380006a43",
       "version_major": 2,
       "version_minor": 0
      },
      "text/plain": [
       "Computing quality for chbant1:   0%|          | 0/270 [00:00<?, ?it/s]"
      ]
     },
     "metadata": {},
     "output_type": "display_data"
    },
    {
     "data": {
      "application/vnd.jupyter.widget-view+json": {
       "model_id": "be0ae88338e049099d3d11756113cb7b",
       "version_major": 2,
       "version_minor": 0
      },
      "text/plain": [
       "Computing quality for chfmac1:   0%|          | 0/139 [00:00<?, ?it/s]"
      ]
     },
     "metadata": {},
     "output_type": "display_data"
    },
    {
     "data": {
      "application/vnd.jupyter.widget-view+json": {
       "model_id": "ef7665d79c8b4c799705ada6f4125e6d",
       "version_major": 2,
       "version_minor": 0
      },
      "text/plain": [
       "Computing quality for cinbec1:   0%|          | 0/67 [00:00<?, ?it/s]"
      ]
     },
     "metadata": {},
     "output_type": "display_data"
    }
   ],
   "source": [
    "def analyze_quality_ratings(metadata_df):\n",
    "    if metadata_df is None or 'rating' not in metadata_df.columns:\n",
    "        print(\"No quality ratings available in metadata\")\n",
    "        return None\n",
    "    \n",
    "    # Load điểm chất lượng\n",
    "    quality_stats = metadata_df['rating'].describe()\n",
    "    print(\"\\nQuality Rating Statistics:\")\n",
    "    display(quality_stats)\n",
    "    \n",
    "    # Đếm số lượng điểm chất lượng\n",
    "    rating_counts = metadata_df['rating'].value_counts().sort_index()\n",
    "    print(\"\\nCount of each rating value:\")\n",
    "    display(rating_counts)\n",
    "    \n",
    "    # Plot dữ liệu\n",
    "    plt.figure(figsize=(10, 6))\n",
    "    sns.countplot(x='rating', data=metadata_df, palette='viridis')\n",
    "    plt.title('Phân bố điểm chất lượng của các bản ghi')\n",
    "    plt.xlabel('Rating (0=unknown, 1=low, 5=high)')\n",
    "    plt.ylabel('Số lượng')\n",
    "    plt.grid(True, alpha=0.3)\n",
    "    plt.show()\n",
    "    \n",
    "    # Chất lượng trung bình của các bản ghi của các loài\n",
    "    species_ratings = metadata_df.groupby('primary_label')['rating'].agg(['mean', 'count']).reset_index()\n",
    "    species_ratings = species_ratings.sort_values('mean', ascending=False)\n",
    "    \n",
    "    print(\"\\nSpecies with highest average quality rating:\")\n",
    "    display(species_ratings.head(10))\n",
    "    \n",
    "    print(\"\\nSpecies with lowest average quality rating:\")\n",
    "    display(species_ratings.tail(10))\n",
    "    \n",
    "    return species_ratings\n",
    "\n",
    "species_ratings = None\n",
    "if metadata_df is not None:\n",
    "    species_ratings = analyze_quality_ratings(metadata_df)\n",
    "\n",
    "# Hàm đánh giá chất lượng\n",
    "def analyze_computed_quality(species_list, species_dir_mapping, cfg):\n",
    "    \"\"\"Compute our own quality assessment on audio files\"\"\"\n",
    "    results = {\n",
    "        'quality_scores': [],\n",
    "        'species_scores': {}\n",
    "    }\n",
    "    \n",
    "    if cfg.DEBUG_MODE:\n",
    "        if len(species_list) > 15: \n",
    "            species_subset = np.random.choice(species_list, 15, replace=False).tolist()\n",
    "        else:\n",
    "            species_subset = species_list\n",
    "    else:\n",
    "        species_subset = species_list\n",
    "    \n",
    "    print(f\"Analyzing computed quality for {len(species_subset)} species\")\n",
    "    \n",
    "    for species_idx, species in enumerate(species_subset):\n",
    "        # Lấy thư mục \n",
    "        species_dir = species_dir_mapping.get(species)\n",
    "        if not species_dir or not os.path.exists(species_dir):\n",
    "            continue\n",
    "        \n",
    "        # Lấy file\n",
    "        audio_files = [f for f in os.listdir(species_dir) \n",
    "                     if f.endswith(('.mp3', '.ogg', '.wav'))]\n",
    "        \n",
    "        if cfg.DEBUG_MODE:\n",
    "            if len(audio_files) > cfg.SAMPLE_SIZE:\n",
    "                audio_files = np.random.choice(audio_files, cfg.SAMPLE_SIZE, replace=False).tolist()\n",
    "        \n",
    "        species_scores = []\n",
    "        \n",
    "        # Xử lý file âm thanh\n",
    "        for filename in tqdm(audio_files, desc=f\"Computing quality for {species}\"):\n",
    "            file_path = os.path.join(species_dir, filename)\n",
    "            \n",
    "            # Load và đánh giá chất lượng\n",
    "            audio = load_audio_file(file_path, sr=cfg.SR)\n",
    "            \n",
    "            if audio is not None:\n",
    "                # Tính toán chất lượng file âm thanh\n",
    "                quality = assess_audio_quality(audio)\n",
    "                results['quality_scores'].append((species, filename, quality))\n",
    "                species_scores.append(quality)\n",
    "        \n",
    "        # Lưu trữ lại\n",
    "        if species_scores:\n",
    "            results['species_scores'][species] = species_scores\n",
    "    \n",
    "    return results\n",
    "\n",
    "computed_quality_results = analyze_computed_quality(species_list, species_dir_mapping, cfg)\n",
    "\n",
    "if computed_quality_results['quality_scores']:\n",
    "    quality_scores = [score for _, _, score in computed_quality_results['quality_scores']]\n",
    "    \n",
    "    print(\"\\nComputed Quality Score Statistics:\")\n",
    "    print(f\"- Average quality: {np.mean(quality_scores):.4f}\")\n",
    "    print(f\"- Min quality: {np.min(quality_scores):.4f}\")\n",
    "    print(f\"- Max quality: {np.max(quality_scores):.4f}\")\n",
    "    \n",
    "    # Biểu diễn phân bố chất lượng\n",
    "    plt.figure(figsize=(12, 6))\n",
    "    plt.hist(quality_scores, bins=50, edgecolor='black')\n",
    "    plt.title('Phân bố điểm chất lượng của các bản ghi')\n",
    "    plt.xlabel('Điểm chất lượng')\n",
    "    plt.ylabel('Số lượng')\n",
    "    plt.grid(True, alpha=0.3)\n",
    "    plt.show()\n",
    "    \n",
    "    # Chất lượng trung bình\n",
    "    species_quality = {}\n",
    "    for species, scores in computed_quality_results['species_scores'].items():\n",
    "        if scores:\n",
    "            species_quality[species] = np.mean(scores)\n",
    "    \n",
    "    species_quality_df = pd.DataFrame({\n",
    "        'species': list(species_quality.keys()),\n",
    "        'avg_quality': list(species_quality.values())\n",
    "    }).sort_values('avg_quality', ascending=False)\n",
    "    \n",
    "    # Plot chất lượng trung bình\n",
    "    plt.figure(figsize=(14, 10))\n",
    "    sns.barplot(x='avg_quality', y='species', data=species_quality_df)\n",
    "    plt.title('Average Computed Quality Score by Species')\n",
    "    plt.xlabel('Average Quality Score')\n",
    "    plt.grid(True, alpha=0.3)\n",
    "    plt.tight_layout()\n",
    "    plt.show()"
   ]
  },
  {
   "cell_type": "markdown",
   "metadata": {},
   "source": [
    "## Frequency Pattern Analysis\n",
    "\n",
    "Trực quan các file âm học"
   ]
  },
  {
   "cell_type": "code",
   "execution_count": null,
   "metadata": {
    "trusted": true
   },
   "outputs": [],
   "source": [
    "def analyze_frequency_patterns(species_list, species_dir_mapping, cfg):\n",
    "    \"\"\"Biểu diễn âm thanh ở một số dạng khác nhau\"\"\"\n",
    "    results = {\n",
    "        'frequency_data': {}\n",
    "    }\n",
    "    \n",
    "    if cfg.DEBUG_MODE:\n",
    "        if len(species_list) > 10:\n",
    "            species_subset = np.random.choice(species_list, 10, replace=False).tolist()\n",
    "        else:\n",
    "            species_subset = species_list\n",
    "    else:\n",
    "        species_subset = species_list\n",
    "    \n",
    "    print(f\"Analyzing frequency patterns for {len(species_subset)} species\")\n",
    "    \n",
    "    for species_idx, species in enumerate(species_subset):\n",
    "        species_dir = species_dir_mapping.get(species)\n",
    "        if not species_dir or not os.path.exists(species_dir):\n",
    "            continue\n",
    "        \n",
    "        audio_files = [f for f in os.listdir(species_dir) \n",
    "                     if f.endswith(('.mp3', '.ogg', '.wav'))]\n",
    "        \n",
    "        if cfg.DEBUG_MODE:\n",
    "            if len(audio_files) > cfg.SAMPLE_SIZE:\n",
    "                audio_files = np.random.choice(audio_files, cfg.SAMPLE_SIZE // 2, replace=False).tolist()\n",
    "        \n",
    "        species_freq_data = []\n",
    "        \n",
    "        for filename in tqdm(audio_files, desc=f\"Analyzing frequencies for {species}\"):\n",
    "            file_path = os.path.join(species_dir, filename)\n",
    "            \n",
    "            audio = load_audio_file(file_path, sr=cfg.SR)\n",
    "            \n",
    "            if audio is not None:\n",
    "                # Trích xuất đặc trưng tần số\n",
    "                freq_data = extract_frequency_characteristics(audio, sr=cfg.SR)\n",
    "                if freq_data:\n",
    "                    freq_data['species'] = species\n",
    "                    freq_data['filename'] = filename\n",
    "                    species_freq_data.append(freq_data)\n",
    "        \n",
    "        if species_freq_data:\n",
    "            results['frequency_data'][species] = species_freq_data\n",
    "    \n",
    "    return results\n",
    "\n",
    "freq_pattern_results = analyze_frequency_patterns(species_list, species_dir_mapping, cfg)\n",
    "\n",
    "if freq_pattern_results['frequency_data']:\n",
    "    species_freq_data = {}\n",
    "    for species, freq_list in freq_pattern_results['frequency_data'].items():\n",
    "        if freq_list:\n",
    "            species_freq_data[species] = {\n",
    "                'dominant_frequency': [item['dominant_frequency'] for item in freq_list],\n",
    "                'spectral_centroid': [item['spectral_centroid'] for item in freq_list],\n",
    "                'spectral_bandwidth': [item['spectral_bandwidth'] for item in freq_list],\n",
    "                'spectral_flatness': [item['spectral_flatness'] for item in freq_list]\n",
    "            }\n",
    "    \n",
    "    median_values = {}\n",
    "    for species, freq_data in species_freq_data.items():\n",
    "        median_values[species] = {\n",
    "            'dominant_frequency': np.median(freq_data['dominant_frequency']),\n",
    "            'spectral_centroid': np.median(freq_data['spectral_centroid']),\n",
    "            'spectral_bandwidth': np.median(freq_data['spectral_bandwidth']),\n",
    "            'spectral_flatness': np.median(freq_data['spectral_flatness'])\n",
    "        }\n",
    "    \n",
    "    freq_df = pd.DataFrame.from_dict(median_values, orient='index')\n",
    "    \n",
    "    print(\"\\nFrequency Characteristics by Species:\")\n",
    "    display(freq_df.head())\n",
    "    \n",
    "    for characteristic in ['dominant_frequency', 'spectral_centroid', 'spectral_bandwidth', 'spectral_flatness']:\n",
    "        plt.figure(figsize=(14, 8))\n",
    "        sorted_df = freq_df.sort_values(characteristic, ascending=False)\n",
    "        plt.barh(range(len(sorted_df)), sorted_df[characteristic])\n",
    "        plt.yticks(range(len(sorted_df)), sorted_df.index)\n",
    "        plt.title(f'Median {characteristic.replace(\"_\", \" \").title()} by Species')\n",
    "        plt.xlabel('Value (Hz for frequencies)')\n",
    "        plt.grid(True, alpha=0.3)\n",
    "        plt.tight_layout()\n",
    "        plt.show()"
   ]
  },
  {
   "cell_type": "code",
   "execution_count": null,
   "metadata": {
    "trusted": true
   },
   "outputs": [],
   "source": []
  },
  {
   "cell_type": "code",
   "execution_count": null,
   "metadata": {
    "trusted": true
   },
   "outputs": [],
   "source": []
  }
 ],
 "metadata": {
  "kaggle": {
   "accelerator": "none",
   "dataSources": [
    {
     "databundleVersionId": 11361821,
     "sourceId": 91844,
     "sourceType": "competition"
    }
   ],
   "dockerImageVersionId": 30918,
   "isGpuEnabled": false,
   "isInternetEnabled": true,
   "language": "python",
   "sourceType": "notebook"
  },
  "kernelspec": {
   "display_name": "Python 3",
   "language": "python",
   "name": "python3"
  },
  "language_info": {
   "codemirror_mode": {
    "name": "ipython",
    "version": 3
   },
   "file_extension": ".py",
   "mimetype": "text/x-python",
   "name": "python",
   "nbconvert_exporter": "python",
   "pygments_lexer": "ipython3",
   "version": "3.10.12"
  }
 },
 "nbformat": 4,
 "nbformat_minor": 4
}
